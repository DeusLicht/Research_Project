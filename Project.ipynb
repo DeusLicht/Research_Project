{
 "cells": [
  {
   "cell_type": "code",
   "execution_count": 2,
   "metadata": {},
   "outputs": [],
   "source": [
    "import torch.nn as nn\n",
    "import random\n",
    "import torch\n",
    "import torchvision\n",
    "import numpy as np\n",
    "from torch.nn import Module\n",
    "from torch.nn import Conv2d\n",
    "from torch.nn import Linear\n",
    "from torch.nn import MaxPool2d\n",
    "from torch.nn import ReLU\n",
    "from torch.nn import LogSoftmax\n",
    "from torch import flatten\n",
    "import matplotlib.pyplot as plt\n",
    "import torch.nn as nn\n",
    "import torch.nn.functional as F\n",
    "from torchvision import transforms\n",
    "from torchvision.datasets import ImageFolder\n",
    "from torchvision.utils import make_grid\n",
    "from torch.utils.data.dataloader import DataLoader\n",
    "from torch.utils.data import random_split, Dataset\n",
    "from torchsummary import summary\n",
    "%matplotlib inline"
   ]
  },
  {
   "cell_type": "code",
   "execution_count": 3,
   "metadata": {},
   "outputs": [],
   "source": [
    "from skimage.io import imread"
   ]
  },
  {
   "cell_type": "code",
   "execution_count": 7,
   "metadata": {},
   "outputs": [],
   "source": [
    "#data_dir = \"D:\\Git\\Research Paper\\DataSet - Mehedi Hasan, Medical Technologist, Bangladesh Hospitals\\Train\"\n",
    "#test_data_dir = \"D:\\Git\\Research Paper\\DataSet - Mehedi Hasan, Medical Technologist, Bangladesh Hospitals\\Test\"\n",
    "normalize_transform = torchvision.transforms.Compose([\n",
    "    torchvision.transforms.Resize((150,150)),\n",
    "    torchvision.transforms.ToTensor(),\n",
    "    torchvision.transforms.Normalize(mean = (0.5, 0.5, 0.5), \n",
    "                                     std = (0.5, 0.5, 0.5))])\n",
    "\n",
    "#dataset = ImageFolder(data_dir,transform = normalize_transform)\n",
    "#test_dataset = ImageFolder(test_data_dir,transform= normalize_transform)"
   ]
  },
  {
   "cell_type": "code",
   "execution_count": 8,
   "metadata": {},
   "outputs": [],
   "source": [
    "from skimage.io import imread"
   ]
  },
  {
   "cell_type": "code",
   "execution_count": 9,
   "metadata": {},
   "outputs": [],
   "source": [
    "transform = torchvision.transforms.Compose([\n",
    "    torchvision.transforms.ToTensor(),\n",
    "    torchvision.transforms.Resize((300,400)),\n",
    "    torchvision.transforms.ColorJitter(hue=.05, saturation=.05),\n",
    "    torchvision.transforms.RandomHorizontalFlip(),\n",
    "    torchvision.transforms.RandomRotation(20)\n",
    "])\n",
    "\n",
    "#train2 = ImageFolder(data_dir,transform = transforms)"
   ]
  },
  {
   "cell_type": "code",
   "execution_count": 10,
   "metadata": {},
   "outputs": [],
   "source": [
    "root = \"D:\\Git\\Research Paper\\DataSet - Mehedi Hasan, Medical Technologist, Bangladesh Hospitals\\Project\""
   ]
  },
  {
   "cell_type": "code",
   "execution_count": 11,
   "metadata": {},
   "outputs": [],
   "source": [
    "dataset = ImageFolder(root,transform = normalize_transform)\n",
    "train_size = int(0.8 * len(dataset))\n",
    "test_size = len(dataset) - train_size\n",
    "train_dataset, test_dataset = random_split(dataset, [train_size, test_size])"
   ]
  },
  {
   "cell_type": "code",
   "execution_count": 12,
   "metadata": {},
   "outputs": [],
   "source": [
    "dataset2 = ImageFolder(root,transform = transforms)\n",
    "train_size2 = int(0.8 * len(dataset2))\n",
    "test_size2 = len(dataset) - train_size\n",
    "train_dataset2, test_dataset2 = random_split(dataset, [train_size2, test_size2])"
   ]
  },
  {
   "cell_type": "code",
   "execution_count": 13,
   "metadata": {},
   "outputs": [],
   "source": [
    "batch_size = 12\n",
    "train_loader = torch.utils.data.DataLoader(train_dataset, batch_size=batch_size)\n",
    "test_loader = torch.utils.data.DataLoader(test_dataset, batch_size=batch_size)\n",
    "train_loader2 = torch.utils.data.DataLoader(train_dataset2, batch_size=batch_size)\n",
    "test_loader2 = torch.utils.data.DataLoader(test_dataset2, batch_size=batch_size)"
   ]
  },
  {
   "cell_type": "code",
   "execution_count": 13,
   "metadata": {},
   "outputs": [
    {
     "data": {
      "text/plain": [
       "(-0.5, 755.5, 151.5, -0.5)"
      ]
     },
     "execution_count": 13,
     "metadata": {},
     "output_type": "execute_result"
    },
    {
     "data": {
      "image/png": "[encoded data removed]",
      "text/plain": [
       "<Figure size 432x288 with 1 Axes>"
      ]
     },
     "metadata": {
      "needs_background": "light"
     },
     "output_type": "display_data"
    }
   ],
   "source": [
    "dataiter = iter(train_loader2)\n",
    "images, labels = dataiter.next()\n",
    "plt.imshow(np.transpose(torchvision.utils.make_grid(\n",
    "  images[:5], normalize=True, padding=1, nrow=5).numpy(), (1, 2, 0)))\n",
    "plt.axis('off')"
   ]
  },
  {
   "cell_type": "code",
   "execution_count": 14,
   "metadata": {},
   "outputs": [],
   "source": [
    "classes = []\n",
    "for batch_idx, data in enumerate(train_loader, 0):\n",
    "    x, y = data \n",
    "    classes.extend(y.tolist())"
   ]
  },
  {
   "cell_type": "code",
   "execution_count": 15,
   "metadata": {},
   "outputs": [
    {
     "name": "stdout",
     "output_type": "stream",
     "text": [
      "torch.Size([3, 150, 150]) 0\n"
     ]
    }
   ],
   "source": [
    "img, label = dataset[0]\n",
    "print(img.shape,label)"
   ]
  },
  {
   "cell_type": "code",
   "execution_count": 16,
   "metadata": {},
   "outputs": [],
   "source": [
    "class CNN(torch.nn.Module):\n",
    "    def __init__(self):\n",
    "        super().__init__()\n",
    "        self.model = torch.nn.Sequential(\n",
    "    \n",
    "            torch.nn.Conv2d(in_channels = 3, out_channels = 32, kernel_size = 3, padding = 1), \n",
    "            torch.nn.ReLU(),\n",
    "            \n",
    "            torch.nn.MaxPool2d(kernel_size=2),\n",
    "  \n",
    "         \n",
    "            torch.nn.Conv2d(in_channels = 32, out_channels = 64, kernel_size = 3, padding = 1),\n",
    "            torch.nn.ReLU(),\n",
    "            \n",
    "            torch.nn.MaxPool2d(kernel_size=2),\n",
    "              \n",
    "           \n",
    "            torch.nn.Conv2d(in_channels = 64, out_channels = 64, kernel_size = 3, padding = 1),\n",
    "            torch.nn.ReLU(),\n",
    "         \n",
    "            torch.nn.MaxPool2d(kernel_size=2),\n",
    "  \n",
    "            torch.nn.Flatten(),\n",
    "            torch.nn.Linear(20736, 512),\n",
    "            torch.nn.ReLU(),\n",
    "            torch.nn.Linear(512, 10)\n",
    "        )\n",
    "  \n",
    "    def forward(self, x):\n",
    "        return self.model(x)"
   ]
  },
  {
   "cell_type": "code",
   "execution_count": 17,
   "metadata": {},
   "outputs": [],
   "source": [
    "def onehot(label, n_classes):\n",
    "    return torch.zeros(label.size(0), n_classes).scatter_(\n",
    "        1, label.view(-1, 1), 1)"
   ]
  },
  {
   "cell_type": "code",
   "execution_count": 18,
   "metadata": {},
   "outputs": [],
   "source": [
    "def mixup(data, targets, alpha, n_classes):\n",
    "    indices = torch.randperm(data.size(0))\n",
    "    data2 = data[indices]\n",
    "    targets2 = targets[indices]\n",
    "\n",
    "    targets = onehot(targets, n_classes)\n",
    "    targets2 = onehot(targets2, n_classes)\n",
    "\n",
    "    lam = torch.FloatTensor([np.random.beta(alpha, alpha)])\n",
    "    data = data * lam + data2 * (1 - lam)\n",
    "    targets = targets * lam + targets2 * (1 - lam)\n",
    "\n",
    "    return data, targets\n",
    "\n"
   ]
  },
  {
   "cell_type": "code",
   "execution_count": 19,
   "metadata": {},
   "outputs": [],
   "source": [
    "def cross_entropy_loss(input, target, size_average=True):\n",
    "    input = F.log_softmax(input, dim=1)\n",
    "    loss = -torch.sum(input * target)\n",
    "    if size_average:\n",
    "        return loss / input.size(0)\n",
    "    else:\n",
    "        return loss\n",
    "\n",
    "\n",
    "class CrossEntropyLoss(object):\n",
    "    def __init__(self, size_average=True):\n",
    "        self.size_average = size_average\n",
    "\n",
    "    def __call__(self, input, target):\n",
    "        return cross_entropy_loss(input, target, self.size_average)"
   ]
  },
  {
   "cell_type": "code",
   "execution_count": 20,
   "metadata": {},
   "outputs": [],
   "source": [
    "device = 'cuda' if torch.cuda.is_available() else 'cpu'\n",
    "#model = CNN().to(device)\n",
    "model = CNN()"
   ]
  },
  {
   "cell_type": "code",
   "execution_count": 21,
   "metadata": {},
   "outputs": [],
   "source": [
    "model = model.to(device)"
   ]
  },
  {
   "cell_type": "code",
   "execution_count": 22,
   "metadata": {},
   "outputs": [
    {
     "name": "stdout",
     "output_type": "stream",
     "text": [
      "----------------------------------------------------------------\n",
      "        Layer (type)               Output Shape         Param #\n",
      "================================================================\n",
      "            Conv2d-1         [-1, 32, 150, 150]             896\n",
      "              ReLU-2         [-1, 32, 150, 150]               0\n",
      "         MaxPool2d-3           [-1, 32, 75, 75]               0\n",
      "            Conv2d-4           [-1, 64, 75, 75]          18,496\n",
      "              ReLU-5           [-1, 64, 75, 75]               0\n",
      "         MaxPool2d-6           [-1, 64, 37, 37]               0\n",
      "            Conv2d-7           [-1, 64, 37, 37]          36,928\n",
      "              ReLU-8           [-1, 64, 37, 37]               0\n",
      "         MaxPool2d-9           [-1, 64, 18, 18]               0\n",
      "          Flatten-10                [-1, 20736]               0\n",
      "           Linear-11                  [-1, 512]      10,617,344\n",
      "             ReLU-12                  [-1, 512]               0\n",
      "           Linear-13                   [-1, 10]           5,130\n",
      "================================================================\n",
      "Total params: 10,678,794\n",
      "Trainable params: 10,678,794\n",
      "Non-trainable params: 0\n",
      "----------------------------------------------------------------\n",
      "Input size (MB): 0.26\n",
      "Forward/backward pass size (MB): 20.18\n",
      "Params size (MB): 40.74\n",
      "Estimated Total Size (MB): 61.18\n",
      "----------------------------------------------------------------\n"
     ]
    }
   ],
   "source": [
    "summary(model, (3, 150, 150))"
   ]
  },
  {
   "cell_type": "code",
   "execution_count": 23,
   "metadata": {},
   "outputs": [
    {
     "data": {
      "text/plain": [
       "CNN(\n",
       "  (model): Sequential(\n",
       "    (0): Conv2d(3, 32, kernel_size=(3, 3), stride=(1, 1), padding=(1, 1))\n",
       "    (1): ReLU()\n",
       "    (2): MaxPool2d(kernel_size=2, stride=2, padding=0, dilation=1, ceil_mode=False)\n",
       "    (3): Conv2d(32, 64, kernel_size=(3, 3), stride=(1, 1), padding=(1, 1))\n",
       "    (4): ReLU()\n",
       "    (5): MaxPool2d(kernel_size=2, stride=2, padding=0, dilation=1, ceil_mode=False)\n",
       "    (6): Conv2d(64, 64, kernel_size=(3, 3), stride=(1, 1), padding=(1, 1))\n",
       "    (7): ReLU()\n",
       "    (8): MaxPool2d(kernel_size=2, stride=2, padding=0, dilation=1, ceil_mode=False)\n",
       "    (9): Flatten(start_dim=1, end_dim=-1)\n",
       "    (10): Linear(in_features=20736, out_features=512, bias=True)\n",
       "    (11): ReLU()\n",
       "    (12): Linear(in_features=512, out_features=10, bias=True)\n",
       "  )\n",
       ")"
      ]
     },
     "execution_count": 23,
     "metadata": {},
     "output_type": "execute_result"
    }
   ],
   "source": [
    "model.eval()"
   ]
  },
  {
   "cell_type": "code",
   "execution_count": 24,
   "metadata": {},
   "outputs": [],
   "source": [
    "\n",
    "#Defining the model hyper parameters\n",
    "num_epochs = 30\n",
    "learning_rate = 0.001\n",
    "weight_decay = 0.01\n",
    "weights = torch.Tensor([0.4, 0.6])\n",
    "criterion = nn.CrossEntropyLoss()\n",
    "criterion.to(device)\n",
    "#criterion = torch.nn.BCELoss(weight=weights)\n",
    "optimizer = torch.optim.Adam(model.parameters(), lr=learning_rate, weight_decay=weight_decay)"
   ]
  },
  {
   "cell_type": "code",
   "execution_count": 25,
   "metadata": {},
   "outputs": [],
   "source": [
    " \n",
    "#Training process begins for Normal Data\n",
    "def trainmodel(model, num_epochs, loader, criterion, optimizer):\n",
    "    train_loss_list = []\n",
    "    for epoch in range(num_epochs):\n",
    "        print(f'Epoch {epoch+1}/{num_epochs}:', end = ' ')\n",
    "        train_loss = 0\n",
    "      \n",
    "        #Iterating over the training dataset in batches\n",
    "        model.train()\n",
    "        for i, (images, labels) in enumerate(loader):\n",
    "            #if i > 0 and i%5 == 0:\n",
    "            #images, labels = mixup(images, labels, 0.2, 2)\n",
    "\n",
    "          \n",
    "            #Extracting images and target labels for the batch being iterated\n",
    "            images = images.to(device)\n",
    "            labels = labels.to(device)\n",
    "  \n",
    "            #Calculating the model output and the cross entropy loss\n",
    "            outputs = model(images)\n",
    "            loss = criterion(outputs, labels)\n",
    "  \n",
    "            #Updating weights according to calculated loss\n",
    "            optimizer.zero_grad()\n",
    "            loss.backward()\n",
    "            optimizer.step()\n",
    "            train_loss += loss.item()\n",
    "      \n",
    "        #Printing loss for each epoch\n",
    "        train_loss_list.append(train_loss/len(train_loader))\n",
    "        print(f\"Training loss = {train_loss_list[-1]}\")   \n",
    "      \n",
    "    #Plotting loss for all epochs\n",
    "    plt.plot(range(1,num_epochs+1), train_loss_list)\n",
    "    plt.xlabel(\"Number of epochs\")\n",
    "    plt.ylabel(\"Training loss\")\n",
    "    return\n"
   ]
  },
  {
   "cell_type": "code",
   "execution_count": 26,
   "metadata": {},
   "outputs": [],
   "source": [
    "torch.cuda.empty_cache()"
   ]
  },
  {
   "cell_type": "code",
   "execution_count": 30,
   "metadata": {},
   "outputs": [
    {
     "name": "stdout",
     "output_type": "stream",
     "text": [
      "Epoch 1/30: Training loss = 0.22235346070637715\n",
      "Epoch 2/30: Training loss = 0.0749971486051111\n",
      "Epoch 3/30: Training loss = 0.04983026501073411\n",
      "Epoch 4/30: Training loss = 0.02797384284711501\n",
      "Epoch 5/30: Training loss = 0.019893164642195323\n",
      "Epoch 6/30: Training loss = 0.013070550799195163\n",
      "Epoch 7/30: Training loss = 0.011726917442042904\n",
      "Epoch 8/30: Training loss = 0.02249697597845855\n",
      "Epoch 9/30: Training loss = 0.0323958558307259\n",
      "Epoch 10/30: Training loss = 0.01886482503140185\n",
      "Epoch 11/30: Training loss = 0.006908745436580165\n",
      "Epoch 12/30: Training loss = 0.017545862632012996\n",
      "Epoch 13/30: Training loss = 0.012464564339057084\n",
      "Epoch 14/30: Training loss = 0.00864666624779507\n",
      "Epoch 15/30: Training loss = 0.022505913683883317\n",
      "Epoch 16/30: Training loss = 0.009168682261743501\n",
      "Epoch 17/30: Training loss = 0.0076757937678103546\n",
      "Epoch 18/30: Training loss = 0.007085210501223225\n",
      "Epoch 19/30: Training loss = 0.03274462868066389\n",
      "Epoch 20/30: Training loss = 0.012430326024035168\n",
      "Epoch 21/30: Training loss = 0.003272454041372392\n",
      "Epoch 22/30: Training loss = 0.011640694420408788\n",
      "Epoch 23/30: Training loss = 0.003242564924534734\n",
      "Epoch 24/30: Training loss = 0.006012106754065787\n",
      "Epoch 25/30: Training loss = 0.02629875905178964\n",
      "Epoch 26/30: Training loss = 0.003019715164542048\n",
      "Epoch 27/30: Training loss = 0.0035529147313402777\n",
      "Epoch 28/30: Training loss = 0.008353545019881368\n",
      "Epoch 29/30: Training loss = 0.005944809423489863\n",
      "Epoch 30/30: Training loss = 0.014053216936323644\n"
     ]
    },
    {
     "data": {
      "image/png": "[encoded data removed]",
      "text/plain": [
       "<Figure size 432x288 with 1 Axes>"
      ]
     },
     "metadata": {
      "needs_background": "light"
     },
     "output_type": "display_data"
    }
   ],
   "source": [
    "trainmodel(model, num_epochs, train_loader, criterion, optimizer)"
   ]
  },
  {
   "cell_type": "code",
   "execution_count": 27,
   "metadata": {},
   "outputs": [],
   "source": [
    "def testmodel(model, loader):\n",
    "    test_acc=0\n",
    "    model.eval()\n",
    "  \n",
    "    with torch.no_grad():\n",
    "        #Iterating over the training dataset in batches\n",
    "        for i, (images, labels) in enumerate(loader):\n",
    "          \n",
    "            images = images.to(device)\n",
    "            y_true = labels.to(device)\n",
    "          \n",
    "            #Calculating outputs for the batch being iterated\n",
    "            outputs = model(images)\n",
    "          \n",
    "            #Calculated prediction labels from models\n",
    "            _, y_pred = torch.max(outputs.data, 1)\n",
    "\n",
    "            #Comparing predicted and true labels\n",
    "            test_acc += (y_pred == y_true).sum().item()\n",
    "      \n",
    "        print(f\"Test set accuracy = {100 * test_acc / len(test_dataset)} %\")"
   ]
  },
  {
   "cell_type": "code",
   "execution_count": 37,
   "metadata": {},
   "outputs": [
    {
     "name": "stdout",
     "output_type": "stream",
     "text": [
      "Test set accuracy = 100.0 %\n"
     ]
    }
   ],
   "source": [
    "testmodel(model, test_loader)"
   ]
  },
  {
   "cell_type": "code",
   "execution_count": 36,
   "metadata": {},
   "outputs": [
    {
     "name": "stdout",
     "output_type": "stream",
     "text": [
      "Epoch 1/30: Training loss = 0.0033902279172425783\n",
      "Epoch 2/30: Training loss = 0.003898099142368247\n",
      "Epoch 3/30: Training loss = 0.01598129260889337\n",
      "Epoch 4/30: Training loss = 0.02101791525938878\n",
      "Epoch 5/30: Training loss = 0.0029477119034346222\n",
      "Epoch 6/30: Training loss = 0.0038393500092176137\n",
      "Epoch 7/30: Training loss = 0.0035941120756249932\n",
      "Epoch 8/30: Training loss = 0.02788168025593807\n",
      "Epoch 9/30: Training loss = 0.002895203329487744\n",
      "Epoch 10/30: Training loss = 0.0033360598538476377\n",
      "Epoch 11/30: Training loss = 0.0037519559620130994\n",
      "Epoch 12/30: Training loss = 0.0037717258889248227\n",
      "Epoch 13/30: Training loss = 0.054517928616869944\n",
      "Epoch 14/30: Training loss = 0.005732485736026634\n",
      "Epoch 15/30: Training loss = 0.0033967488130242822\n",
      "Epoch 16/30: Training loss = 0.020961878384499016\n",
      "Epoch 17/30: Training loss = 0.006022301572212937\n",
      "Epoch 18/30: Training loss = 0.0029123495175560456\n",
      "Epoch 19/30: Training loss = 0.0032134539478056784\n",
      "Epoch 20/30: Training loss = 0.0038200943834964607\n",
      "Epoch 21/30: Training loss = 0.020279047320169358\n",
      "Epoch 22/30: Training loss = 0.003644100884731455\n",
      "Epoch 23/30: Training loss = 0.0034048395681019494\n",
      "Epoch 24/30: Training loss = 0.012412764275752563\n",
      "Epoch 25/30: Training loss = 0.0027828971002413615\n",
      "Epoch 26/30: Training loss = 0.01138298876855416\n",
      "Epoch 27/30: Training loss = 0.002653649938007503\n",
      "Epoch 28/30: Training loss = 0.014891353216626158\n",
      "Epoch 29/30: Training loss = 0.014675687690310558\n",
      "Epoch 30/30: Training loss = 0.0027450739881206424\n"
     ]
    },
    {
     "data": {
      "image/png": "[encoded data removed]",
      "text/plain": [
       "<Figure size 432x288 with 1 Axes>"
      ]
     },
     "metadata": {
      "needs_background": "light"
     },
     "output_type": "display_data"
    }
   ],
   "source": [
    "trainmodel(model, num_epochs, train_loader2, criterion, optimizer)"
   ]
  },
  {
   "cell_type": "code",
   "execution_count": 39,
   "metadata": {},
   "outputs": [
    {
     "name": "stdout",
     "output_type": "stream",
     "text": [
      "Test set accuracy = 100.0 %\n"
     ]
    }
   ],
   "source": [
    "testmodel(model, test_loader2)"
   ]
  },
  {
   "cell_type": "code",
   "execution_count": 19,
   "metadata": {},
   "outputs": [],
   "source": [
    "torch.save(model.state_dict(), 'nonmixup.pth')"
   ]
  },
  {
   "cell_type": "code",
   "execution_count": 28,
   "metadata": {},
   "outputs": [
    {
     "data": {
      "text/plain": [
       "<All keys matched successfully>"
      ]
     },
     "execution_count": 28,
     "metadata": {},
     "output_type": "execute_result"
    }
   ],
   "source": [
    "fname = 'D:\\\\Git\\\\Research Paper\\\\Research_Project\\\\projectCNN.pth'\n",
    "loaded_dict = torch.load(fname)\n",
    "model.load_state_dict(loaded_dict)"
   ]
  },
  {
   "cell_type": "code",
   "execution_count": 21,
   "metadata": {},
   "outputs": [
    {
     "ename": "NameError",
     "evalue": "name 'images' is not defined",
     "output_type": "error",
     "traceback": [
      "\u001b[1;31m---------------------------------------------------------------------------\u001b[0m",
      "\u001b[1;31mNameError\u001b[0m                                 Traceback (most recent call last)",
      "\u001b[1;32md:\\Git\\Research Paper\\Research_Project\\Project.ipynb Cell 31\u001b[0m in \u001b[0;36m<cell line: 1>\u001b[1;34m()\u001b[0m\n\u001b[1;32m----> <a href='vscode-notebook-cell:/d%3A/Git/Research%20Paper/Research_Project/Project.ipynb#ch0000030?line=0'>1</a>\u001b[0m images \u001b[39m=\u001b[39m images\u001b[39m.\u001b[39mto(device)\n\u001b[0;32m      <a href='vscode-notebook-cell:/d%3A/Git/Research%20Paper/Research_Project/Project.ipynb#ch0000030?line=1'>2</a>\u001b[0m y_true \u001b[39m=\u001b[39m labels\u001b[39m.\u001b[39mto(device)\n\u001b[0;32m      <a href='vscode-notebook-cell:/d%3A/Git/Research%20Paper/Research_Project/Project.ipynb#ch0000030?line=2'>3</a>\u001b[0m outputs \u001b[39m=\u001b[39m model(images)\n",
      "\u001b[1;31mNameError\u001b[0m: name 'images' is not defined"
     ]
    }
   ],
   "source": [
    "images = images.to(device)\n",
    "y_true = labels.to(device)\n",
    "outputs = model(images)\n",
    "print(outputs)"
   ]
  },
  {
   "cell_type": "code",
   "execution_count": 29,
   "metadata": {},
   "outputs": [],
   "source": [
    "def predict_img_class(img,model):\n",
    "    \"\"\" Predict the class of image and Return Predicted Class\"\"\"\n",
    "    img = to_device(img.unsqueeze(0), device)\n",
    "    prediction =  model(img)\n",
    "    _, preds = torch.max(prediction, dim = 1)\n",
    "    return dataset.classes[preds[0].item()]"
   ]
  },
  {
   "cell_type": "code",
   "execution_count": 30,
   "metadata": {},
   "outputs": [],
   "source": [
    "def to_device(data, device):\n",
    "    \"Move data to the device\"\n",
    "    if isinstance(data,(list,tuple)):\n",
    "        return [to_device(x,device) for x in data]\n",
    "    return data.to(device,non_blocking = True)"
   ]
  },
  {
   "cell_type": "code",
   "execution_count": 31,
   "metadata": {},
   "outputs": [
    {
     "name": "stderr",
     "output_type": "stream",
     "text": [
      "Clipping input data to the valid range for imshow with RGB data ([0..1] for floats or [0..255] for integers).\n"
     ]
    },
    {
     "name": "stdout",
     "output_type": "stream",
     "text": [
      "Predicted Class : Stone\n"
     ]
    },
    {
     "data": {
      "image/png": "[encoded data removed]",
      "text/plain": [
       "<Figure size 432x288 with 1 Axes>"
      ]
     },
     "metadata": {
      "needs_background": "light"
     },
     "output_type": "display_data"
    }
   ],
   "source": [
    "from PIL import Image\n",
    "\n",
    "#open image file\n",
    "img_path = \"D:\\Git\\Research Paper\\DataSet - Mehedi Hasan, Medical Technologist, Bangladesh Hospitals\\Test\\Stone\\Stone- (1100).jpg\"\n",
    "img = Image.open(img_path)\n",
    "\n",
    "#convert image to tensor\n",
    "img = normalize_transform(img)\n",
    "\n",
    "#print image\n",
    "plt.imshow(img.permute(1,2,0))\n",
    "\n",
    "#prdict image label\n",
    "print(f\"Predicted Class : {predict_img_class(img,model)}\")"
   ]
  },
  {
   "cell_type": "code",
   "execution_count": 32,
   "metadata": {},
   "outputs": [],
   "source": [
    "from scipy.spatial import distance as dist\n",
    "from imutils import perspective\n",
    "from imutils import contours\n",
    "import numpy as np\n",
    "import argparse\n",
    "import imutils\n",
    "import cv2"
   ]
  },
  {
   "cell_type": "code",
   "execution_count": 36,
   "metadata": {},
   "outputs": [],
   "source": [
    "def midpoint(ptA, ptB):\n",
    "\treturn ((ptA[0] + ptB[0]) * 0.5, (ptA[1] + ptB[1]) * 0.5)"
   ]
  },
  {
   "cell_type": "code",
   "execution_count": 33,
   "metadata": {},
   "outputs": [],
   "source": [
    "image = cv2.imread(img_path)\n",
    "gray = cv2.cvtColor(image, cv2.COLOR_BGR2GRAY)\n",
    "gray = cv2.GaussianBlur(gray, (7, 7), 0)\n",
    "\n",
    "\n",
    "edged = cv2.Canny(gray, 50, 100)\n",
    "edged = cv2.dilate(edged, None, iterations=1)\n",
    "edged = cv2.erode(edged, None, iterations=1)\n",
    "\n",
    "\n",
    "cnts = cv2.findContours(edged.copy(), cv2.RETR_EXTERNAL,\n",
    "\tcv2.CHAIN_APPROX_SIMPLE)\n",
    "cnts = imutils.grab_contours(cnts)\n",
    "\n",
    "\n",
    "(cnts, _) = contours.sort_contours(cnts)\n",
    "pixelsPerMetric = None"
   ]
  },
  {
   "cell_type": "code",
   "execution_count": 37,
   "metadata": {},
   "outputs": [],
   "source": [
    "for c in cnts:\n",
    "    \t# if the contour is not sufficiently large, ignore it\n",
    "\tif cv2.contourArea(c) < 100:\n",
    "\t\tcontinue\n",
    "\t# compute the rotated bounding box of the contour\n",
    "\torig = image.copy()\n",
    "\tbox = cv2.minAreaRect(c)\n",
    "\tbox = cv2.cv.BoxPoints(box) if imutils.is_cv2() else cv2.boxPoints(box)\n",
    "\tbox = np.array(box, dtype=\"int\")\n",
    "\t# order the points in the contour such that they appear\n",
    "\t# in top-left, top-right, bottom-right, and bottom-left\n",
    "\t# order, then draw the outline of the rotated bounding\n",
    "\t# box\n",
    "\tbox = perspective.order_points(box)\n",
    "\tcv2.drawContours(orig, [box.astype(\"int\")], -1, (0, 255, 0), 2)\n",
    "\t# loop over the original points and draw them\n",
    "\tfor (x, y) in box:\n",
    "\t\tcv2.circle(orig, (int(x), int(y)), 5, (0, 0, 255), -1)"
   ]
  },
  {
   "cell_type": "code",
   "execution_count": 38,
   "metadata": {},
   "outputs": [
    {
     "data": {
      "text/plain": [
       "array([[[0, 0, 0],\n",
       "        [0, 0, 0],\n",
       "        [0, 0, 0],\n",
       "        ...,\n",
       "        [0, 0, 0],\n",
       "        [0, 0, 0],\n",
       "        [0, 0, 0]],\n",
       "\n",
       "       [[0, 0, 0],\n",
       "        [0, 0, 0],\n",
       "        [0, 0, 0],\n",
       "        ...,\n",
       "        [0, 0, 0],\n",
       "        [0, 0, 0],\n",
       "        [0, 0, 0]],\n",
       "\n",
       "       [[0, 0, 0],\n",
       "        [0, 0, 0],\n",
       "        [0, 0, 0],\n",
       "        ...,\n",
       "        [0, 0, 0],\n",
       "        [0, 0, 0],\n",
       "        [0, 0, 0]],\n",
       "\n",
       "       ...,\n",
       "\n",
       "       [[0, 0, 0],\n",
       "        [0, 0, 0],\n",
       "        [0, 0, 0],\n",
       "        ...,\n",
       "        [0, 0, 0],\n",
       "        [0, 0, 0],\n",
       "        [0, 0, 0]],\n",
       "\n",
       "       [[0, 0, 0],\n",
       "        [0, 0, 0],\n",
       "        [0, 0, 0],\n",
       "        ...,\n",
       "        [0, 0, 0],\n",
       "        [0, 0, 0],\n",
       "        [0, 0, 0]],\n",
       "\n",
       "       [[0, 0, 0],\n",
       "        [0, 0, 0],\n",
       "        [0, 0, 0],\n",
       "        ...,\n",
       "        [0, 0, 0],\n",
       "        [0, 0, 0],\n",
       "        [0, 0, 0]]], dtype=uint8)"
      ]
     },
     "execution_count": 38,
     "metadata": {},
     "output_type": "execute_result"
    }
   ],
   "source": [
    "\t(tl, tr, br, bl) = box\n",
    "\t(tltrX, tltrY) = midpoint(tl, tr)\n",
    "\t(blbrX, blbrY) = midpoint(bl, br)\n",
    "\t# compute the midpoint between the top-left and top-right points,\n",
    "\t# followed by the midpoint between the top-righ and bottom-right\n",
    "\t(tlblX, tlblY) = midpoint(tl, bl)\n",
    "\t(trbrX, trbrY) = midpoint(tr, br)\n",
    "\t# draw the midpoints on the image\n",
    "\tcv2.circle(orig, (int(tltrX), int(tltrY)), 5, (255, 0, 0), -1)\n",
    "\tcv2.circle(orig, (int(blbrX), int(blbrY)), 5, (255, 0, 0), -1)\n",
    "\tcv2.circle(orig, (int(tlblX), int(tlblY)), 5, (255, 0, 0), -1)\n",
    "\tcv2.circle(orig, (int(trbrX), int(trbrY)), 5, (255, 0, 0), -1)\n",
    "\t# draw lines between the midpoints\n",
    "\tcv2.line(orig, (int(tltrX), int(tltrY)), (int(blbrX), int(blbrY)),\n",
    "\t\t(255, 0, 255), 2)\n",
    "\tcv2.line(orig, (int(tlblX), int(tlblY)), (int(trbrX), int(trbrY)),\n",
    "\t\t(255, 0, 255), 2)"
   ]
  },
  {
   "cell_type": "code",
   "execution_count": 39,
   "metadata": {},
   "outputs": [],
   "source": [
    "\tdA = dist.euclidean((tltrX, tltrY), (blbrX, blbrY))\n",
    "\tdB = dist.euclidean((tlblX, tlblY), (trbrX, trbrY))\n",
    "\t# if the pixels per metric has not been initialized, then\n",
    "\t# compute it as the ratio of pixels to supplied metric\n",
    "\t# (in this case, inches)\n",
    "\tif pixelsPerMetric is None:\n",
    "\t\tpixelsPerMetric = dB / 3"
   ]
  },
  {
   "cell_type": "code",
   "execution_count": 1,
   "metadata": {},
   "outputs": [
    {
     "ename": "NameError",
     "evalue": "name 'dA' is not defined",
     "output_type": "error",
     "traceback": [
      "\u001b[1;31m---------------------------------------------------------------------------\u001b[0m",
      "\u001b[1;31mNameError\u001b[0m                                 Traceback (most recent call last)",
      "\u001b[1;32md:\\Git\\Research Paper\\Research_Project\\Project.ipynb Cell 41\u001b[0m in \u001b[0;36m<cell line: 1>\u001b[1;34m()\u001b[0m\n\u001b[1;32m----> <a href='vscode-notebook-cell:/d%3A/Git/Research%20Paper/Research_Project/Project.ipynb#ch0000040?line=0'>1</a>\u001b[0m dimA \u001b[39m=\u001b[39m dA \u001b[39m/\u001b[39m pixelsPerMetric\n\u001b[0;32m      <a href='vscode-notebook-cell:/d%3A/Git/Research%20Paper/Research_Project/Project.ipynb#ch0000040?line=1'>2</a>\u001b[0m dimB \u001b[39m=\u001b[39m dB \u001b[39m/\u001b[39m pixelsPerMetric\n\u001b[0;32m      <a href='vscode-notebook-cell:/d%3A/Git/Research%20Paper/Research_Project/Project.ipynb#ch0000040?line=2'>3</a>\u001b[0m \u001b[39m# draw the object sizes on the image\u001b[39;00m\n",
      "\u001b[1;31mNameError\u001b[0m: name 'dA' is not defined"
     ]
    }
   ],
   "source": [
    "\tdimA = dA / pixelsPerMetric\n",
    "\tdimB = dB / pixelsPerMetric\n",
    "\t# draw the object sizes on the image\n",
    "\tcv2.putText(orig, \"{:.1f}in\".format(dimA),\n",
    "\t\t(int(tltrX - 15), int(tltrY - 10)), cv2.FONT_HERSHEY_SIMPLEX,\n",
    "\t\t0.65, (255, 255, 255), 2)\n",
    "\tcv2.putText(orig, \"{:.1f}in\".format(dimB),\n",
    "\t\t(int(trbrX + 10), int(trbrY)), cv2.FONT_HERSHEY_SIMPLEX,\n",
    "\t\t0.65, (255, 255, 255), 2)\n",
    "\t# show the output image\n",
    "\tcv2.imshow(\"Image\", orig)\n",
    "\tcv2.waitKey(0)"
   ]
  },
  {
   "cell_type": "code",
   "execution_count": null,
   "metadata": {},
   "outputs": [],
   "source": []
  }
 ],
 "metadata": {
  "kernelspec": {
   "display_name": "Python 3.10.5 ('tensorflow')",
   "language": "python",
   "name": "python3"
  },
  "language_info": {
   "codemirror_mode": {
    "name": "ipython",
    "version": 3
   },
   "file_extension": ".py",
   "mimetype": "text/x-python",
   "name": "python",
   "nbconvert_exporter": "python",
   "pygments_lexer": "ipython3",
   "version": "3.10.5"
  },
  "orig_nbformat": 4,
  "vscode": {
   "interpreter": {
    "hash": "1e14dff31657d72d8f438edb53d1760a8d6796be921cd9f1003fb34023c1344f"
   }
  }
 },
 "nbformat": 4,
 "nbformat_minor": 2
}
