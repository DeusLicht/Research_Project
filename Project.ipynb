{
 "cells": [
  {
   "cell_type": "code",
   "execution_count": 1,
   "metadata": {},
   "outputs": [],
   "source": [
    "import torch.nn as nn\n",
    "import random\n",
    "import torch\n",
    "import torchvision\n",
    "import numpy as np\n",
    "from torch.nn import Module\n",
    "from torch.nn import Conv2d\n",
    "from torch.nn import Linear\n",
    "from torch.nn import MaxPool2d\n",
    "from torch.nn import ReLU\n",
    "from torch.nn import LogSoftmax\n",
    "from torch import flatten\n",
    "import matplotlib.pyplot as plt\n",
    "import torch.nn as nn\n",
    "import torch.nn.functional as F\n",
    "from torchvision import transforms\n",
    "from torchvision.datasets import ImageFolder\n",
    "from torchvision.utils import make_grid\n",
    "from torch.utils.data.dataloader import DataLoader\n",
    "from torch.utils.data import random_split, Dataset\n",
    "from torchsummary import summary\n",
    "%matplotlib inline"
   ]
  },
  {
   "cell_type": "code",
   "execution_count": 2,
   "metadata": {},
   "outputs": [],
   "source": [
    "from skimage.io import imread"
   ]
  },
  {
   "cell_type": "code",
   "execution_count": 3,
   "metadata": {},
   "outputs": [],
   "source": [
    "#data_dir = \"D:\\Git\\Research Paper\\DataSet - Mehedi Hasan, Medical Technologist, Bangladesh Hospitals\\Train\"\n",
    "#test_data_dir = \"D:\\Git\\Research Paper\\DataSet - Mehedi Hasan, Medical Technologist, Bangladesh Hospitals\\Test\"\n",
    "normalize_transform = torchvision.transforms.Compose([\n",
    "    torchvision.transforms.Resize((150,150)),\n",
    "    torchvision.transforms.ToTensor(),\n",
    "    torchvision.transforms.Normalize(mean = (0.5, 0.5, 0.5), \n",
    "                                     std = (0.5, 0.5, 0.5))])\n",
    "\n",
    "#dataset = ImageFolder(data_dir,transform = normalize_transform)\n",
    "#test_dataset = ImageFolder(test_data_dir,transform= normalize_transform)"
   ]
  },
  {
   "cell_type": "code",
   "execution_count": 4,
   "metadata": {},
   "outputs": [],
   "source": [
    "from skimage.io import imread"
   ]
  },
  {
   "cell_type": "code",
   "execution_count": 5,
   "metadata": {},
   "outputs": [],
   "source": [
    "transform = torchvision.transforms.Compose([\n",
    "    torchvision.transforms.ToTensor(),\n",
    "    torchvision.transforms.Resize((150,150)),\n",
    "    torchvision.transforms.ColorJitter(hue=.05, saturation=.05),\n",
    "    torchvision.transforms.RandomHorizontalFlip(),\n",
    "    torchvision.transforms.RandomRotation(20),\n",
    "    torchvision.transforms.Normalize(mean = (0.5, 0.5, 0.5), \n",
    "                                     std = (0.5, 0.5, 0.5))\n",
    "])\n",
    "\n",
    "#train2 = ImageFolder(data_dir,transform = transforms)"
   ]
  },
  {
   "cell_type": "code",
   "execution_count": 6,
   "metadata": {},
   "outputs": [],
   "source": [
    "root = \"D:\\Git\\Research Paper\\DataSet - Mehedi Hasan, Medical Technologist, Bangladesh Hospitals\\Project\\Train\""
   ]
  },
  {
   "cell_type": "code",
   "execution_count": 7,
   "metadata": {},
   "outputs": [],
   "source": [
    "dataset = ImageFolder(root,transform = transform)\n",
    "train_size = int(0.8 * len(dataset))\n",
    "test_size = len(dataset) - train_size\n",
    "train_dataset, test_dataset = random_split(dataset, [train_size, test_size])"
   ]
  },
  {
   "cell_type": "code",
   "execution_count": 8,
   "metadata": {},
   "outputs": [],
   "source": [
    "dataset2 = ImageFolder(root,transform = transforms)\n",
    "train_size2 = int(0.8 * len(dataset2))\n",
    "test_size2 = len(dataset) - train_size\n",
    "train_dataset2, test_dataset2 = random_split(dataset, [train_size2, test_size2])"
   ]
  },
  {
   "cell_type": "code",
   "execution_count": 9,
   "metadata": {},
   "outputs": [],
   "source": [
    "batch_size = 32\n",
    "train_loader = torch.utils.data.DataLoader(train_dataset, batch_size=batch_size)\n",
    "test_loader = torch.utils.data.DataLoader(test_dataset, batch_size=batch_size)\n",
    "#train_loader2 = torch.utils.data.DataLoader(train_dataset2, batch_size=batch_size)\n",
    "#test_loader2 = torch.utils.data.DataLoader(test_dataset2, batch_size=batch_size)"
   ]
  },
  {
   "cell_type": "code",
   "execution_count": 10,
   "metadata": {},
   "outputs": [
    {
     "data": {
      "text/plain": [
       "(-0.5, 755.5, 151.5, -0.5)"
      ]
     },
     "execution_count": 10,
     "metadata": {},
     "output_type": "execute_result"
    },
    {
     "data": {
      "image/png": "[encoded data removed]",
      "text/plain": [
       "<Figure size 432x288 with 1 Axes>"
      ]
     },
     "metadata": {
      "needs_background": "light"
     },
     "output_type": "display_data"
    }
   ],
   "source": [
    "dataiter = iter(train_loader)\n",
    "images, labels = dataiter.next()\n",
    "plt.imshow(np.transpose(torchvision.utils.make_grid(\n",
    "  images[:5], normalize=True, padding=1, nrow=5).numpy(), (1, 2, 0)))\n",
    "plt.axis('off')"
   ]
  },
  {
   "cell_type": "code",
   "execution_count": 12,
   "metadata": {},
   "outputs": [
    {
     "ename": "KeyboardInterrupt",
     "evalue": "",
     "output_type": "error",
     "traceback": [
      "\u001b[1;31m---------------------------------------------------------------------------\u001b[0m",
      "\u001b[1;31mKeyboardInterrupt\u001b[0m                         Traceback (most recent call last)",
      "\u001b[1;32md:\\Git\\Research Paper\\Research_Project\\Project.ipynb Cell 11\u001b[0m in \u001b[0;36m<cell line: 2>\u001b[1;34m()\u001b[0m\n\u001b[0;32m      <a href='vscode-notebook-cell:/d%3A/Git/Research%20Paper/Research_Project/Project.ipynb#ch0000010?line=0'>1</a>\u001b[0m classes \u001b[39m=\u001b[39m []\n\u001b[1;32m----> <a href='vscode-notebook-cell:/d%3A/Git/Research%20Paper/Research_Project/Project.ipynb#ch0000010?line=1'>2</a>\u001b[0m \u001b[39mfor\u001b[39;00m batch_idx, data \u001b[39min\u001b[39;00m \u001b[39menumerate\u001b[39m(train_loader, \u001b[39m0\u001b[39m):\n\u001b[0;32m      <a href='vscode-notebook-cell:/d%3A/Git/Research%20Paper/Research_Project/Project.ipynb#ch0000010?line=2'>3</a>\u001b[0m     x, y \u001b[39m=\u001b[39m data \n\u001b[0;32m      <a href='vscode-notebook-cell:/d%3A/Git/Research%20Paper/Research_Project/Project.ipynb#ch0000010?line=3'>4</a>\u001b[0m     classes\u001b[39m.\u001b[39mextend(y\u001b[39m.\u001b[39mtolist())\n",
      "File \u001b[1;32md:\\Anaconda\\envs\\pytorch\\lib\\site-packages\\torch\\utils\\data\\dataloader.py:652\u001b[0m, in \u001b[0;36m_BaseDataLoaderIter.__next__\u001b[1;34m(self)\u001b[0m\n\u001b[0;32m    649\u001b[0m \u001b[39mif\u001b[39;00m \u001b[39mself\u001b[39m\u001b[39m.\u001b[39m_sampler_iter \u001b[39mis\u001b[39;00m \u001b[39mNone\u001b[39;00m:\n\u001b[0;32m    650\u001b[0m     \u001b[39m# TODO(https://github.com/pytorch/pytorch/issues/76750)\u001b[39;00m\n\u001b[0;32m    651\u001b[0m     \u001b[39mself\u001b[39m\u001b[39m.\u001b[39m_reset()  \u001b[39m# type: ignore[call-arg]\u001b[39;00m\n\u001b[1;32m--> 652\u001b[0m data \u001b[39m=\u001b[39m \u001b[39mself\u001b[39;49m\u001b[39m.\u001b[39;49m_next_data()\n\u001b[0;32m    653\u001b[0m \u001b[39mself\u001b[39m\u001b[39m.\u001b[39m_num_yielded \u001b[39m+\u001b[39m\u001b[39m=\u001b[39m \u001b[39m1\u001b[39m\n\u001b[0;32m    654\u001b[0m \u001b[39mif\u001b[39;00m \u001b[39mself\u001b[39m\u001b[39m.\u001b[39m_dataset_kind \u001b[39m==\u001b[39m _DatasetKind\u001b[39m.\u001b[39mIterable \u001b[39mand\u001b[39;00m \\\n\u001b[0;32m    655\u001b[0m         \u001b[39mself\u001b[39m\u001b[39m.\u001b[39m_IterableDataset_len_called \u001b[39mis\u001b[39;00m \u001b[39mnot\u001b[39;00m \u001b[39mNone\u001b[39;00m \u001b[39mand\u001b[39;00m \\\n\u001b[0;32m    656\u001b[0m         \u001b[39mself\u001b[39m\u001b[39m.\u001b[39m_num_yielded \u001b[39m>\u001b[39m \u001b[39mself\u001b[39m\u001b[39m.\u001b[39m_IterableDataset_len_called:\n",
      "File \u001b[1;32md:\\Anaconda\\envs\\pytorch\\lib\\site-packages\\torch\\utils\\data\\dataloader.py:692\u001b[0m, in \u001b[0;36m_SingleProcessDataLoaderIter._next_data\u001b[1;34m(self)\u001b[0m\n\u001b[0;32m    690\u001b[0m \u001b[39mdef\u001b[39;00m \u001b[39m_next_data\u001b[39m(\u001b[39mself\u001b[39m):\n\u001b[0;32m    691\u001b[0m     index \u001b[39m=\u001b[39m \u001b[39mself\u001b[39m\u001b[39m.\u001b[39m_next_index()  \u001b[39m# may raise StopIteration\u001b[39;00m\n\u001b[1;32m--> 692\u001b[0m     data \u001b[39m=\u001b[39m \u001b[39mself\u001b[39;49m\u001b[39m.\u001b[39;49m_dataset_fetcher\u001b[39m.\u001b[39;49mfetch(index)  \u001b[39m# may raise StopIteration\u001b[39;00m\n\u001b[0;32m    693\u001b[0m     \u001b[39mif\u001b[39;00m \u001b[39mself\u001b[39m\u001b[39m.\u001b[39m_pin_memory:\n\u001b[0;32m    694\u001b[0m         data \u001b[39m=\u001b[39m _utils\u001b[39m.\u001b[39mpin_memory\u001b[39m.\u001b[39mpin_memory(data, \u001b[39mself\u001b[39m\u001b[39m.\u001b[39m_pin_memory_device)\n",
      "File \u001b[1;32md:\\Anaconda\\envs\\pytorch\\lib\\site-packages\\torch\\utils\\data\\_utils\\fetch.py:49\u001b[0m, in \u001b[0;36m_MapDatasetFetcher.fetch\u001b[1;34m(self, possibly_batched_index)\u001b[0m\n\u001b[0;32m     47\u001b[0m \u001b[39mdef\u001b[39;00m \u001b[39mfetch\u001b[39m(\u001b[39mself\u001b[39m, possibly_batched_index):\n\u001b[0;32m     48\u001b[0m     \u001b[39mif\u001b[39;00m \u001b[39mself\u001b[39m\u001b[39m.\u001b[39mauto_collation:\n\u001b[1;32m---> 49\u001b[0m         data \u001b[39m=\u001b[39m [\u001b[39mself\u001b[39m\u001b[39m.\u001b[39mdataset[idx] \u001b[39mfor\u001b[39;00m idx \u001b[39min\u001b[39;00m possibly_batched_index]\n\u001b[0;32m     50\u001b[0m     \u001b[39melse\u001b[39;00m:\n\u001b[0;32m     51\u001b[0m         data \u001b[39m=\u001b[39m \u001b[39mself\u001b[39m\u001b[39m.\u001b[39mdataset[possibly_batched_index]\n",
      "File \u001b[1;32md:\\Anaconda\\envs\\pytorch\\lib\\site-packages\\torch\\utils\\data\\_utils\\fetch.py:49\u001b[0m, in \u001b[0;36m<listcomp>\u001b[1;34m(.0)\u001b[0m\n\u001b[0;32m     47\u001b[0m \u001b[39mdef\u001b[39;00m \u001b[39mfetch\u001b[39m(\u001b[39mself\u001b[39m, possibly_batched_index):\n\u001b[0;32m     48\u001b[0m     \u001b[39mif\u001b[39;00m \u001b[39mself\u001b[39m\u001b[39m.\u001b[39mauto_collation:\n\u001b[1;32m---> 49\u001b[0m         data \u001b[39m=\u001b[39m [\u001b[39mself\u001b[39;49m\u001b[39m.\u001b[39;49mdataset[idx] \u001b[39mfor\u001b[39;00m idx \u001b[39min\u001b[39;00m possibly_batched_index]\n\u001b[0;32m     50\u001b[0m     \u001b[39melse\u001b[39;00m:\n\u001b[0;32m     51\u001b[0m         data \u001b[39m=\u001b[39m \u001b[39mself\u001b[39m\u001b[39m.\u001b[39mdataset[possibly_batched_index]\n",
      "File \u001b[1;32md:\\Anaconda\\envs\\pytorch\\lib\\site-packages\\torch\\utils\\data\\dataset.py:290\u001b[0m, in \u001b[0;36mSubset.__getitem__\u001b[1;34m(self, idx)\u001b[0m\n\u001b[0;32m    288\u001b[0m \u001b[39mif\u001b[39;00m \u001b[39misinstance\u001b[39m(idx, \u001b[39mlist\u001b[39m):\n\u001b[0;32m    289\u001b[0m     \u001b[39mreturn\u001b[39;00m \u001b[39mself\u001b[39m\u001b[39m.\u001b[39mdataset[[\u001b[39mself\u001b[39m\u001b[39m.\u001b[39mindices[i] \u001b[39mfor\u001b[39;00m i \u001b[39min\u001b[39;00m idx]]\n\u001b[1;32m--> 290\u001b[0m \u001b[39mreturn\u001b[39;00m \u001b[39mself\u001b[39;49m\u001b[39m.\u001b[39;49mdataset[\u001b[39mself\u001b[39;49m\u001b[39m.\u001b[39;49mindices[idx]]\n",
      "File \u001b[1;32md:\\Anaconda\\envs\\pytorch\\lib\\site-packages\\torchvision\\datasets\\folder.py:232\u001b[0m, in \u001b[0;36mDatasetFolder.__getitem__\u001b[1;34m(self, index)\u001b[0m\n\u001b[0;32m    230\u001b[0m sample \u001b[39m=\u001b[39m \u001b[39mself\u001b[39m\u001b[39m.\u001b[39mloader(path)\n\u001b[0;32m    231\u001b[0m \u001b[39mif\u001b[39;00m \u001b[39mself\u001b[39m\u001b[39m.\u001b[39mtransform \u001b[39mis\u001b[39;00m \u001b[39mnot\u001b[39;00m \u001b[39mNone\u001b[39;00m:\n\u001b[1;32m--> 232\u001b[0m     sample \u001b[39m=\u001b[39m \u001b[39mself\u001b[39;49m\u001b[39m.\u001b[39;49mtransform(sample)\n\u001b[0;32m    233\u001b[0m \u001b[39mif\u001b[39;00m \u001b[39mself\u001b[39m\u001b[39m.\u001b[39mtarget_transform \u001b[39mis\u001b[39;00m \u001b[39mnot\u001b[39;00m \u001b[39mNone\u001b[39;00m:\n\u001b[0;32m    234\u001b[0m     target \u001b[39m=\u001b[39m \u001b[39mself\u001b[39m\u001b[39m.\u001b[39mtarget_transform(target)\n",
      "File \u001b[1;32md:\\Anaconda\\envs\\pytorch\\lib\\site-packages\\torchvision\\transforms\\transforms.py:94\u001b[0m, in \u001b[0;36mCompose.__call__\u001b[1;34m(self, img)\u001b[0m\n\u001b[0;32m     92\u001b[0m \u001b[39mdef\u001b[39;00m \u001b[39m__call__\u001b[39m(\u001b[39mself\u001b[39m, img):\n\u001b[0;32m     93\u001b[0m     \u001b[39mfor\u001b[39;00m t \u001b[39min\u001b[39;00m \u001b[39mself\u001b[39m\u001b[39m.\u001b[39mtransforms:\n\u001b[1;32m---> 94\u001b[0m         img \u001b[39m=\u001b[39m t(img)\n\u001b[0;32m     95\u001b[0m     \u001b[39mreturn\u001b[39;00m img\n",
      "File \u001b[1;32md:\\Anaconda\\envs\\pytorch\\lib\\site-packages\\torch\\nn\\modules\\module.py:1130\u001b[0m, in \u001b[0;36mModule._call_impl\u001b[1;34m(self, *input, **kwargs)\u001b[0m\n\u001b[0;32m   1126\u001b[0m \u001b[39m# If we don't have any hooks, we want to skip the rest of the logic in\u001b[39;00m\n\u001b[0;32m   1127\u001b[0m \u001b[39m# this function, and just call forward.\u001b[39;00m\n\u001b[0;32m   1128\u001b[0m \u001b[39mif\u001b[39;00m \u001b[39mnot\u001b[39;00m (\u001b[39mself\u001b[39m\u001b[39m.\u001b[39m_backward_hooks \u001b[39mor\u001b[39;00m \u001b[39mself\u001b[39m\u001b[39m.\u001b[39m_forward_hooks \u001b[39mor\u001b[39;00m \u001b[39mself\u001b[39m\u001b[39m.\u001b[39m_forward_pre_hooks \u001b[39mor\u001b[39;00m _global_backward_hooks\n\u001b[0;32m   1129\u001b[0m         \u001b[39mor\u001b[39;00m _global_forward_hooks \u001b[39mor\u001b[39;00m _global_forward_pre_hooks):\n\u001b[1;32m-> 1130\u001b[0m     \u001b[39mreturn\u001b[39;00m forward_call(\u001b[39m*\u001b[39m\u001b[39minput\u001b[39m, \u001b[39m*\u001b[39m\u001b[39m*\u001b[39mkwargs)\n\u001b[0;32m   1131\u001b[0m \u001b[39m# Do not call functions when jit is used\u001b[39;00m\n\u001b[0;32m   1132\u001b[0m full_backward_hooks, non_full_backward_hooks \u001b[39m=\u001b[39m [], []\n",
      "File \u001b[1;32md:\\Anaconda\\envs\\pytorch\\lib\\site-packages\\torchvision\\transforms\\transforms.py:1243\u001b[0m, in \u001b[0;36mColorJitter.forward\u001b[1;34m(self, img)\u001b[0m\n\u001b[0;32m   1241\u001b[0m     img \u001b[39m=\u001b[39m F\u001b[39m.\u001b[39madjust_contrast(img, contrast_factor)\n\u001b[0;32m   1242\u001b[0m \u001b[39melif\u001b[39;00m fn_id \u001b[39m==\u001b[39m \u001b[39m2\u001b[39m \u001b[39mand\u001b[39;00m saturation_factor \u001b[39mis\u001b[39;00m \u001b[39mnot\u001b[39;00m \u001b[39mNone\u001b[39;00m:\n\u001b[1;32m-> 1243\u001b[0m     img \u001b[39m=\u001b[39m F\u001b[39m.\u001b[39;49madjust_saturation(img, saturation_factor)\n\u001b[0;32m   1244\u001b[0m \u001b[39melif\u001b[39;00m fn_id \u001b[39m==\u001b[39m \u001b[39m3\u001b[39m \u001b[39mand\u001b[39;00m hue_factor \u001b[39mis\u001b[39;00m \u001b[39mnot\u001b[39;00m \u001b[39mNone\u001b[39;00m:\n\u001b[0;32m   1245\u001b[0m     img \u001b[39m=\u001b[39m F\u001b[39m.\u001b[39madjust_hue(img, hue_factor)\n",
      "File \u001b[1;32md:\\Anaconda\\envs\\pytorch\\lib\\site-packages\\torchvision\\transforms\\functional.py:863\u001b[0m, in \u001b[0;36madjust_saturation\u001b[1;34m(img, saturation_factor)\u001b[0m\n\u001b[0;32m    860\u001b[0m \u001b[39mif\u001b[39;00m \u001b[39mnot\u001b[39;00m \u001b[39misinstance\u001b[39m(img, torch\u001b[39m.\u001b[39mTensor):\n\u001b[0;32m    861\u001b[0m     \u001b[39mreturn\u001b[39;00m F_pil\u001b[39m.\u001b[39madjust_saturation(img, saturation_factor)\n\u001b[1;32m--> 863\u001b[0m \u001b[39mreturn\u001b[39;00m F_t\u001b[39m.\u001b[39;49madjust_saturation(img, saturation_factor)\n",
      "File \u001b[1;32md:\\Anaconda\\envs\\pytorch\\lib\\site-packages\\torchvision\\transforms\\functional_tensor.py:233\u001b[0m, in \u001b[0;36madjust_saturation\u001b[1;34m(img, saturation_factor)\u001b[0m\n\u001b[0;32m    230\u001b[0m \u001b[39mif\u001b[39;00m get_dimensions(img)[\u001b[39m0\u001b[39m] \u001b[39m==\u001b[39m \u001b[39m1\u001b[39m:  \u001b[39m# Match PIL behaviour\u001b[39;00m\n\u001b[0;32m    231\u001b[0m     \u001b[39mreturn\u001b[39;00m img\n\u001b[1;32m--> 233\u001b[0m \u001b[39mreturn\u001b[39;00m _blend(img, rgb_to_grayscale(img), saturation_factor)\n",
      "File \u001b[1;32md:\\Anaconda\\envs\\pytorch\\lib\\site-packages\\torchvision\\transforms\\functional_tensor.py:259\u001b[0m, in \u001b[0;36m_blend\u001b[1;34m(img1, img2, ratio)\u001b[0m\n\u001b[0;32m    257\u001b[0m ratio \u001b[39m=\u001b[39m \u001b[39mfloat\u001b[39m(ratio)\n\u001b[0;32m    258\u001b[0m bound \u001b[39m=\u001b[39m \u001b[39m1.0\u001b[39m \u001b[39mif\u001b[39;00m img1\u001b[39m.\u001b[39mis_floating_point() \u001b[39melse\u001b[39;00m \u001b[39m255.0\u001b[39m\n\u001b[1;32m--> 259\u001b[0m \u001b[39mreturn\u001b[39;00m (ratio \u001b[39m*\u001b[39;49m img1 \u001b[39m+\u001b[39;49m (\u001b[39m1.0\u001b[39;49m \u001b[39m-\u001b[39;49m ratio) \u001b[39m*\u001b[39;49m img2)\u001b[39m.\u001b[39;49mclamp(\u001b[39m0\u001b[39;49m, bound)\u001b[39m.\u001b[39mto(img1\u001b[39m.\u001b[39mdtype)\n",
      "\u001b[1;31mKeyboardInterrupt\u001b[0m: "
     ]
    }
   ],
   "source": [
    "classes = []\n",
    "for batch_idx, data in enumerate(train_loader, 0):\n",
    "    x, y = data \n",
    "    classes.extend(y.tolist())"
   ]
  },
  {
   "cell_type": "code",
   "execution_count": 11,
   "metadata": {},
   "outputs": [
    {
     "name": "stdout",
     "output_type": "stream",
     "text": [
      "torch.Size([3, 150, 150]) 0\n"
     ]
    }
   ],
   "source": [
    "img, label = dataset[0]\n",
    "print(img.shape,label)"
   ]
  },
  {
   "cell_type": "code",
   "execution_count": 12,
   "metadata": {},
   "outputs": [
    {
     "ename": "SyntaxError",
     "evalue": "invalid syntax (626259141.py, line 3)",
     "output_type": "error",
     "traceback": [
      "\u001b[1;36m  Input \u001b[1;32mIn [12]\u001b[1;36m\u001b[0m\n\u001b[1;33m    super(resnet50, self.).__init__()\u001b[0m\n\u001b[1;37m                         ^\u001b[0m\n\u001b[1;31mSyntaxError\u001b[0m\u001b[1;31m:\u001b[0m invalid syntax\n"
     ]
    }
   ],
   "source": [
    "class CNN(torch.nn.Module):\n",
    "    def __init__(self):\n",
    "        super(resnet50, self.).__init__()\n",
    "        self.model = resnet50(weights=None)\n",
    "        self.classifier_layer = nn.Sequential(\n",
    "            nn.Linear(1, 256),\n",
    "            nn.BatchNorm1d(256),\n",
    "            nn.Dropout(0.2),\n",
    "            nn.Linear(256 , 128),\n",
    "            nn.Linear(128 , 2))\n",
    "  \n",
    "    def forward(self, x):\n",
    "        batch_size ,_,_,_ = x.shape #taking out batch_size from input image\n",
    "        x = self.model.extract_features(x)\n",
    "        x = torch.nn.functional.adaptive_avg_pool2d(x,1).reshape(batch_size,-1) # then reshaping the batch_size\n",
    "        x = self.classifier_layer(x)\n",
    "        return x"
   ]
  },
  {
   "cell_type": "code",
   "execution_count": 12,
   "metadata": {},
   "outputs": [],
   "source": [
    "from torchvision.models import resnet50"
   ]
  },
  {
   "cell_type": "code",
   "execution_count": 13,
   "metadata": {},
   "outputs": [
    {
     "data": {
      "text/plain": [
       "'model = nn.Sequential(\\n            *modules,\\n            nn.Linear(2048 , 1000)\\n            )\\nfor param in model.parameters():\\n    param.requires_grad = False'"
      ]
     },
     "execution_count": 13,
     "metadata": {},
     "output_type": "execute_result"
    }
   ],
   "source": [
    "device = 'cuda' if torch.cuda.is_available() else 'cpu'\n",
    "#model = CNN().to(device)\n",
    "model = resnet50(weights=None)\n",
    "modules = list(model.children())[:-2]      # delete the last fc layer.\n",
    "model.fc = nn.Linear(2048 , 2)\n",
    "\"\"\"model = nn.Sequential(\n",
    "            *modules,\n",
    "            nn.Linear(2048 , 1000)\n",
    "            )\n",
    "for param in model.parameters():\n",
    "    param.requires_grad = False\"\"\""
   ]
  },
  {
   "cell_type": "code",
   "execution_count": 14,
   "metadata": {},
   "outputs": [],
   "source": [
    "model = model.to(device)"
   ]
  },
  {
   "cell_type": "code",
   "execution_count": 15,
   "metadata": {},
   "outputs": [
    {
     "data": {
      "text/plain": [
       "ResNet(\n",
       "  (conv1): Conv2d(3, 64, kernel_size=(7, 7), stride=(2, 2), padding=(3, 3), bias=False)\n",
       "  (bn1): BatchNorm2d(64, eps=1e-05, momentum=0.1, affine=True, track_running_stats=True)\n",
       "  (relu): ReLU(inplace=True)\n",
       "  (maxpool): MaxPool2d(kernel_size=3, stride=2, padding=1, dilation=1, ceil_mode=False)\n",
       "  (layer1): Sequential(\n",
       "    (0): Bottleneck(\n",
       "      (conv1): Conv2d(64, 64, kernel_size=(1, 1), stride=(1, 1), bias=False)\n",
       "      (bn1): BatchNorm2d(64, eps=1e-05, momentum=0.1, affine=True, track_running_stats=True)\n",
       "      (conv2): Conv2d(64, 64, kernel_size=(3, 3), stride=(1, 1), padding=(1, 1), bias=False)\n",
       "      (bn2): BatchNorm2d(64, eps=1e-05, momentum=0.1, affine=True, track_running_stats=True)\n",
       "      (conv3): Conv2d(64, 256, kernel_size=(1, 1), stride=(1, 1), bias=False)\n",
       "      (bn3): BatchNorm2d(256, eps=1e-05, momentum=0.1, affine=True, track_running_stats=True)\n",
       "      (relu): ReLU(inplace=True)\n",
       "      (downsample): Sequential(\n",
       "        (0): Conv2d(64, 256, kernel_size=(1, 1), stride=(1, 1), bias=False)\n",
       "        (1): BatchNorm2d(256, eps=1e-05, momentum=0.1, affine=True, track_running_stats=True)\n",
       "      )\n",
       "    )\n",
       "    (1): Bottleneck(\n",
       "      (conv1): Conv2d(256, 64, kernel_size=(1, 1), stride=(1, 1), bias=False)\n",
       "      (bn1): BatchNorm2d(64, eps=1e-05, momentum=0.1, affine=True, track_running_stats=True)\n",
       "      (conv2): Conv2d(64, 64, kernel_size=(3, 3), stride=(1, 1), padding=(1, 1), bias=False)\n",
       "      (bn2): BatchNorm2d(64, eps=1e-05, momentum=0.1, affine=True, track_running_stats=True)\n",
       "      (conv3): Conv2d(64, 256, kernel_size=(1, 1), stride=(1, 1), bias=False)\n",
       "      (bn3): BatchNorm2d(256, eps=1e-05, momentum=0.1, affine=True, track_running_stats=True)\n",
       "      (relu): ReLU(inplace=True)\n",
       "    )\n",
       "    (2): Bottleneck(\n",
       "      (conv1): Conv2d(256, 64, kernel_size=(1, 1), stride=(1, 1), bias=False)\n",
       "      (bn1): BatchNorm2d(64, eps=1e-05, momentum=0.1, affine=True, track_running_stats=True)\n",
       "      (conv2): Conv2d(64, 64, kernel_size=(3, 3), stride=(1, 1), padding=(1, 1), bias=False)\n",
       "      (bn2): BatchNorm2d(64, eps=1e-05, momentum=0.1, affine=True, track_running_stats=True)\n",
       "      (conv3): Conv2d(64, 256, kernel_size=(1, 1), stride=(1, 1), bias=False)\n",
       "      (bn3): BatchNorm2d(256, eps=1e-05, momentum=0.1, affine=True, track_running_stats=True)\n",
       "      (relu): ReLU(inplace=True)\n",
       "    )\n",
       "  )\n",
       "  (layer2): Sequential(\n",
       "    (0): Bottleneck(\n",
       "      (conv1): Conv2d(256, 128, kernel_size=(1, 1), stride=(1, 1), bias=False)\n",
       "      (bn1): BatchNorm2d(128, eps=1e-05, momentum=0.1, affine=True, track_running_stats=True)\n",
       "      (conv2): Conv2d(128, 128, kernel_size=(3, 3), stride=(2, 2), padding=(1, 1), bias=False)\n",
       "      (bn2): BatchNorm2d(128, eps=1e-05, momentum=0.1, affine=True, track_running_stats=True)\n",
       "      (conv3): Conv2d(128, 512, kernel_size=(1, 1), stride=(1, 1), bias=False)\n",
       "      (bn3): BatchNorm2d(512, eps=1e-05, momentum=0.1, affine=True, track_running_stats=True)\n",
       "      (relu): ReLU(inplace=True)\n",
       "      (downsample): Sequential(\n",
       "        (0): Conv2d(256, 512, kernel_size=(1, 1), stride=(2, 2), bias=False)\n",
       "        (1): BatchNorm2d(512, eps=1e-05, momentum=0.1, affine=True, track_running_stats=True)\n",
       "      )\n",
       "    )\n",
       "    (1): Bottleneck(\n",
       "      (conv1): Conv2d(512, 128, kernel_size=(1, 1), stride=(1, 1), bias=False)\n",
       "      (bn1): BatchNorm2d(128, eps=1e-05, momentum=0.1, affine=True, track_running_stats=True)\n",
       "      (conv2): Conv2d(128, 128, kernel_size=(3, 3), stride=(1, 1), padding=(1, 1), bias=False)\n",
       "      (bn2): BatchNorm2d(128, eps=1e-05, momentum=0.1, affine=True, track_running_stats=True)\n",
       "      (conv3): Conv2d(128, 512, kernel_size=(1, 1), stride=(1, 1), bias=False)\n",
       "      (bn3): BatchNorm2d(512, eps=1e-05, momentum=0.1, affine=True, track_running_stats=True)\n",
       "      (relu): ReLU(inplace=True)\n",
       "    )\n",
       "    (2): Bottleneck(\n",
       "      (conv1): Conv2d(512, 128, kernel_size=(1, 1), stride=(1, 1), bias=False)\n",
       "      (bn1): BatchNorm2d(128, eps=1e-05, momentum=0.1, affine=True, track_running_stats=True)\n",
       "      (conv2): Conv2d(128, 128, kernel_size=(3, 3), stride=(1, 1), padding=(1, 1), bias=False)\n",
       "      (bn2): BatchNorm2d(128, eps=1e-05, momentum=0.1, affine=True, track_running_stats=True)\n",
       "      (conv3): Conv2d(128, 512, kernel_size=(1, 1), stride=(1, 1), bias=False)\n",
       "      (bn3): BatchNorm2d(512, eps=1e-05, momentum=0.1, affine=True, track_running_stats=True)\n",
       "      (relu): ReLU(inplace=True)\n",
       "    )\n",
       "    (3): Bottleneck(\n",
       "      (conv1): Conv2d(512, 128, kernel_size=(1, 1), stride=(1, 1), bias=False)\n",
       "      (bn1): BatchNorm2d(128, eps=1e-05, momentum=0.1, affine=True, track_running_stats=True)\n",
       "      (conv2): Conv2d(128, 128, kernel_size=(3, 3), stride=(1, 1), padding=(1, 1), bias=False)\n",
       "      (bn2): BatchNorm2d(128, eps=1e-05, momentum=0.1, affine=True, track_running_stats=True)\n",
       "      (conv3): Conv2d(128, 512, kernel_size=(1, 1), stride=(1, 1), bias=False)\n",
       "      (bn3): BatchNorm2d(512, eps=1e-05, momentum=0.1, affine=True, track_running_stats=True)\n",
       "      (relu): ReLU(inplace=True)\n",
       "    )\n",
       "  )\n",
       "  (layer3): Sequential(\n",
       "    (0): Bottleneck(\n",
       "      (conv1): Conv2d(512, 256, kernel_size=(1, 1), stride=(1, 1), bias=False)\n",
       "      (bn1): BatchNorm2d(256, eps=1e-05, momentum=0.1, affine=True, track_running_stats=True)\n",
       "      (conv2): Conv2d(256, 256, kernel_size=(3, 3), stride=(2, 2), padding=(1, 1), bias=False)\n",
       "      (bn2): BatchNorm2d(256, eps=1e-05, momentum=0.1, affine=True, track_running_stats=True)\n",
       "      (conv3): Conv2d(256, 1024, kernel_size=(1, 1), stride=(1, 1), bias=False)\n",
       "      (bn3): BatchNorm2d(1024, eps=1e-05, momentum=0.1, affine=True, track_running_stats=True)\n",
       "      (relu): ReLU(inplace=True)\n",
       "      (downsample): Sequential(\n",
       "        (0): Conv2d(512, 1024, kernel_size=(1, 1), stride=(2, 2), bias=False)\n",
       "        (1): BatchNorm2d(1024, eps=1e-05, momentum=0.1, affine=True, track_running_stats=True)\n",
       "      )\n",
       "    )\n",
       "    (1): Bottleneck(\n",
       "      (conv1): Conv2d(1024, 256, kernel_size=(1, 1), stride=(1, 1), bias=False)\n",
       "      (bn1): BatchNorm2d(256, eps=1e-05, momentum=0.1, affine=True, track_running_stats=True)\n",
       "      (conv2): Conv2d(256, 256, kernel_size=(3, 3), stride=(1, 1), padding=(1, 1), bias=False)\n",
       "      (bn2): BatchNorm2d(256, eps=1e-05, momentum=0.1, affine=True, track_running_stats=True)\n",
       "      (conv3): Conv2d(256, 1024, kernel_size=(1, 1), stride=(1, 1), bias=False)\n",
       "      (bn3): BatchNorm2d(1024, eps=1e-05, momentum=0.1, affine=True, track_running_stats=True)\n",
       "      (relu): ReLU(inplace=True)\n",
       "    )\n",
       "    (2): Bottleneck(\n",
       "      (conv1): Conv2d(1024, 256, kernel_size=(1, 1), stride=(1, 1), bias=False)\n",
       "      (bn1): BatchNorm2d(256, eps=1e-05, momentum=0.1, affine=True, track_running_stats=True)\n",
       "      (conv2): Conv2d(256, 256, kernel_size=(3, 3), stride=(1, 1), padding=(1, 1), bias=False)\n",
       "      (bn2): BatchNorm2d(256, eps=1e-05, momentum=0.1, affine=True, track_running_stats=True)\n",
       "      (conv3): Conv2d(256, 1024, kernel_size=(1, 1), stride=(1, 1), bias=False)\n",
       "      (bn3): BatchNorm2d(1024, eps=1e-05, momentum=0.1, affine=True, track_running_stats=True)\n",
       "      (relu): ReLU(inplace=True)\n",
       "    )\n",
       "    (3): Bottleneck(\n",
       "      (conv1): Conv2d(1024, 256, kernel_size=(1, 1), stride=(1, 1), bias=False)\n",
       "      (bn1): BatchNorm2d(256, eps=1e-05, momentum=0.1, affine=True, track_running_stats=True)\n",
       "      (conv2): Conv2d(256, 256, kernel_size=(3, 3), stride=(1, 1), padding=(1, 1), bias=False)\n",
       "      (bn2): BatchNorm2d(256, eps=1e-05, momentum=0.1, affine=True, track_running_stats=True)\n",
       "      (conv3): Conv2d(256, 1024, kernel_size=(1, 1), stride=(1, 1), bias=False)\n",
       "      (bn3): BatchNorm2d(1024, eps=1e-05, momentum=0.1, affine=True, track_running_stats=True)\n",
       "      (relu): ReLU(inplace=True)\n",
       "    )\n",
       "    (4): Bottleneck(\n",
       "      (conv1): Conv2d(1024, 256, kernel_size=(1, 1), stride=(1, 1), bias=False)\n",
       "      (bn1): BatchNorm2d(256, eps=1e-05, momentum=0.1, affine=True, track_running_stats=True)\n",
       "      (conv2): Conv2d(256, 256, kernel_size=(3, 3), stride=(1, 1), padding=(1, 1), bias=False)\n",
       "      (bn2): BatchNorm2d(256, eps=1e-05, momentum=0.1, affine=True, track_running_stats=True)\n",
       "      (conv3): Conv2d(256, 1024, kernel_size=(1, 1), stride=(1, 1), bias=False)\n",
       "      (bn3): BatchNorm2d(1024, eps=1e-05, momentum=0.1, affine=True, track_running_stats=True)\n",
       "      (relu): ReLU(inplace=True)\n",
       "    )\n",
       "    (5): Bottleneck(\n",
       "      (conv1): Conv2d(1024, 256, kernel_size=(1, 1), stride=(1, 1), bias=False)\n",
       "      (bn1): BatchNorm2d(256, eps=1e-05, momentum=0.1, affine=True, track_running_stats=True)\n",
       "      (conv2): Conv2d(256, 256, kernel_size=(3, 3), stride=(1, 1), padding=(1, 1), bias=False)\n",
       "      (bn2): BatchNorm2d(256, eps=1e-05, momentum=0.1, affine=True, track_running_stats=True)\n",
       "      (conv3): Conv2d(256, 1024, kernel_size=(1, 1), stride=(1, 1), bias=False)\n",
       "      (bn3): BatchNorm2d(1024, eps=1e-05, momentum=0.1, affine=True, track_running_stats=True)\n",
       "      (relu): ReLU(inplace=True)\n",
       "    )\n",
       "  )\n",
       "  (layer4): Sequential(\n",
       "    (0): Bottleneck(\n",
       "      (conv1): Conv2d(1024, 512, kernel_size=(1, 1), stride=(1, 1), bias=False)\n",
       "      (bn1): BatchNorm2d(512, eps=1e-05, momentum=0.1, affine=True, track_running_stats=True)\n",
       "      (conv2): Conv2d(512, 512, kernel_size=(3, 3), stride=(2, 2), padding=(1, 1), bias=False)\n",
       "      (bn2): BatchNorm2d(512, eps=1e-05, momentum=0.1, affine=True, track_running_stats=True)\n",
       "      (conv3): Conv2d(512, 2048, kernel_size=(1, 1), stride=(1, 1), bias=False)\n",
       "      (bn3): BatchNorm2d(2048, eps=1e-05, momentum=0.1, affine=True, track_running_stats=True)\n",
       "      (relu): ReLU(inplace=True)\n",
       "      (downsample): Sequential(\n",
       "        (0): Conv2d(1024, 2048, kernel_size=(1, 1), stride=(2, 2), bias=False)\n",
       "        (1): BatchNorm2d(2048, eps=1e-05, momentum=0.1, affine=True, track_running_stats=True)\n",
       "      )\n",
       "    )\n",
       "    (1): Bottleneck(\n",
       "      (conv1): Conv2d(2048, 512, kernel_size=(1, 1), stride=(1, 1), bias=False)\n",
       "      (bn1): BatchNorm2d(512, eps=1e-05, momentum=0.1, affine=True, track_running_stats=True)\n",
       "      (conv2): Conv2d(512, 512, kernel_size=(3, 3), stride=(1, 1), padding=(1, 1), bias=False)\n",
       "      (bn2): BatchNorm2d(512, eps=1e-05, momentum=0.1, affine=True, track_running_stats=True)\n",
       "      (conv3): Conv2d(512, 2048, kernel_size=(1, 1), stride=(1, 1), bias=False)\n",
       "      (bn3): BatchNorm2d(2048, eps=1e-05, momentum=0.1, affine=True, track_running_stats=True)\n",
       "      (relu): ReLU(inplace=True)\n",
       "    )\n",
       "    (2): Bottleneck(\n",
       "      (conv1): Conv2d(2048, 512, kernel_size=(1, 1), stride=(1, 1), bias=False)\n",
       "      (bn1): BatchNorm2d(512, eps=1e-05, momentum=0.1, affine=True, track_running_stats=True)\n",
       "      (conv2): Conv2d(512, 512, kernel_size=(3, 3), stride=(1, 1), padding=(1, 1), bias=False)\n",
       "      (bn2): BatchNorm2d(512, eps=1e-05, momentum=0.1, affine=True, track_running_stats=True)\n",
       "      (conv3): Conv2d(512, 2048, kernel_size=(1, 1), stride=(1, 1), bias=False)\n",
       "      (bn3): BatchNorm2d(2048, eps=1e-05, momentum=0.1, affine=True, track_running_stats=True)\n",
       "      (relu): ReLU(inplace=True)\n",
       "    )\n",
       "  )\n",
       "  (avgpool): AdaptiveAvgPool2d(output_size=(1, 1))\n",
       "  (fc): Linear(in_features=2048, out_features=2, bias=True)\n",
       ")"
      ]
     },
     "execution_count": 15,
     "metadata": {},
     "output_type": "execute_result"
    }
   ],
   "source": [
    "model.eval()"
   ]
  },
  {
   "cell_type": "code",
   "execution_count": 16,
   "metadata": {},
   "outputs": [
    {
     "name": "stdout",
     "output_type": "stream",
     "text": [
      "----------------------------------------------------------------\n",
      "        Layer (type)               Output Shape         Param #\n",
      "================================================================\n",
      "            Conv2d-1           [-1, 64, 75, 75]           9,408\n",
      "       BatchNorm2d-2           [-1, 64, 75, 75]             128\n",
      "              ReLU-3           [-1, 64, 75, 75]               0\n",
      "         MaxPool2d-4           [-1, 64, 38, 38]               0\n",
      "            Conv2d-5           [-1, 64, 38, 38]           4,096\n",
      "       BatchNorm2d-6           [-1, 64, 38, 38]             128\n",
      "              ReLU-7           [-1, 64, 38, 38]               0\n",
      "            Conv2d-8           [-1, 64, 38, 38]          36,864\n",
      "       BatchNorm2d-9           [-1, 64, 38, 38]             128\n",
      "             ReLU-10           [-1, 64, 38, 38]               0\n",
      "           Conv2d-11          [-1, 256, 38, 38]          16,384\n",
      "      BatchNorm2d-12          [-1, 256, 38, 38]             512\n",
      "           Conv2d-13          [-1, 256, 38, 38]          16,384\n",
      "      BatchNorm2d-14          [-1, 256, 38, 38]             512\n",
      "             ReLU-15          [-1, 256, 38, 38]               0\n",
      "       Bottleneck-16          [-1, 256, 38, 38]               0\n",
      "           Conv2d-17           [-1, 64, 38, 38]          16,384\n",
      "      BatchNorm2d-18           [-1, 64, 38, 38]             128\n",
      "             ReLU-19           [-1, 64, 38, 38]               0\n",
      "           Conv2d-20           [-1, 64, 38, 38]          36,864\n",
      "      BatchNorm2d-21           [-1, 64, 38, 38]             128\n",
      "             ReLU-22           [-1, 64, 38, 38]               0\n",
      "           Conv2d-23          [-1, 256, 38, 38]          16,384\n",
      "      BatchNorm2d-24          [-1, 256, 38, 38]             512\n",
      "             ReLU-25          [-1, 256, 38, 38]               0\n",
      "       Bottleneck-26          [-1, 256, 38, 38]               0\n",
      "           Conv2d-27           [-1, 64, 38, 38]          16,384\n",
      "      BatchNorm2d-28           [-1, 64, 38, 38]             128\n",
      "             ReLU-29           [-1, 64, 38, 38]               0\n",
      "           Conv2d-30           [-1, 64, 38, 38]          36,864\n",
      "      BatchNorm2d-31           [-1, 64, 38, 38]             128\n",
      "             ReLU-32           [-1, 64, 38, 38]               0\n",
      "           Conv2d-33          [-1, 256, 38, 38]          16,384\n",
      "      BatchNorm2d-34          [-1, 256, 38, 38]             512\n",
      "             ReLU-35          [-1, 256, 38, 38]               0\n",
      "       Bottleneck-36          [-1, 256, 38, 38]               0\n",
      "           Conv2d-37          [-1, 128, 38, 38]          32,768\n",
      "      BatchNorm2d-38          [-1, 128, 38, 38]             256\n",
      "             ReLU-39          [-1, 128, 38, 38]               0\n",
      "           Conv2d-40          [-1, 128, 19, 19]         147,456\n",
      "      BatchNorm2d-41          [-1, 128, 19, 19]             256\n",
      "             ReLU-42          [-1, 128, 19, 19]               0\n",
      "           Conv2d-43          [-1, 512, 19, 19]          65,536\n",
      "      BatchNorm2d-44          [-1, 512, 19, 19]           1,024\n",
      "           Conv2d-45          [-1, 512, 19, 19]         131,072\n",
      "      BatchNorm2d-46          [-1, 512, 19, 19]           1,024\n",
      "             ReLU-47          [-1, 512, 19, 19]               0\n",
      "       Bottleneck-48          [-1, 512, 19, 19]               0\n",
      "           Conv2d-49          [-1, 128, 19, 19]          65,536\n",
      "      BatchNorm2d-50          [-1, 128, 19, 19]             256\n",
      "             ReLU-51          [-1, 128, 19, 19]               0\n",
      "           Conv2d-52          [-1, 128, 19, 19]         147,456\n",
      "      BatchNorm2d-53          [-1, 128, 19, 19]             256\n",
      "             ReLU-54          [-1, 128, 19, 19]               0\n",
      "           Conv2d-55          [-1, 512, 19, 19]          65,536\n",
      "      BatchNorm2d-56          [-1, 512, 19, 19]           1,024\n",
      "             ReLU-57          [-1, 512, 19, 19]               0\n",
      "       Bottleneck-58          [-1, 512, 19, 19]               0\n",
      "           Conv2d-59          [-1, 128, 19, 19]          65,536\n",
      "      BatchNorm2d-60          [-1, 128, 19, 19]             256\n",
      "             ReLU-61          [-1, 128, 19, 19]               0\n",
      "           Conv2d-62          [-1, 128, 19, 19]         147,456\n",
      "      BatchNorm2d-63          [-1, 128, 19, 19]             256\n",
      "             ReLU-64          [-1, 128, 19, 19]               0\n",
      "           Conv2d-65          [-1, 512, 19, 19]          65,536\n",
      "      BatchNorm2d-66          [-1, 512, 19, 19]           1,024\n",
      "             ReLU-67          [-1, 512, 19, 19]               0\n",
      "       Bottleneck-68          [-1, 512, 19, 19]               0\n",
      "           Conv2d-69          [-1, 128, 19, 19]          65,536\n",
      "      BatchNorm2d-70          [-1, 128, 19, 19]             256\n",
      "             ReLU-71          [-1, 128, 19, 19]               0\n",
      "           Conv2d-72          [-1, 128, 19, 19]         147,456\n",
      "      BatchNorm2d-73          [-1, 128, 19, 19]             256\n",
      "             ReLU-74          [-1, 128, 19, 19]               0\n",
      "           Conv2d-75          [-1, 512, 19, 19]          65,536\n",
      "      BatchNorm2d-76          [-1, 512, 19, 19]           1,024\n",
      "             ReLU-77          [-1, 512, 19, 19]               0\n",
      "       Bottleneck-78          [-1, 512, 19, 19]               0\n",
      "           Conv2d-79          [-1, 256, 19, 19]         131,072\n",
      "      BatchNorm2d-80          [-1, 256, 19, 19]             512\n",
      "             ReLU-81          [-1, 256, 19, 19]               0\n",
      "           Conv2d-82          [-1, 256, 10, 10]         589,824\n",
      "      BatchNorm2d-83          [-1, 256, 10, 10]             512\n",
      "             ReLU-84          [-1, 256, 10, 10]               0\n",
      "           Conv2d-85         [-1, 1024, 10, 10]         262,144\n",
      "      BatchNorm2d-86         [-1, 1024, 10, 10]           2,048\n",
      "           Conv2d-87         [-1, 1024, 10, 10]         524,288\n",
      "      BatchNorm2d-88         [-1, 1024, 10, 10]           2,048\n",
      "             ReLU-89         [-1, 1024, 10, 10]               0\n",
      "       Bottleneck-90         [-1, 1024, 10, 10]               0\n",
      "           Conv2d-91          [-1, 256, 10, 10]         262,144\n",
      "      BatchNorm2d-92          [-1, 256, 10, 10]             512\n",
      "             ReLU-93          [-1, 256, 10, 10]               0\n",
      "           Conv2d-94          [-1, 256, 10, 10]         589,824\n",
      "      BatchNorm2d-95          [-1, 256, 10, 10]             512\n",
      "             ReLU-96          [-1, 256, 10, 10]               0\n",
      "           Conv2d-97         [-1, 1024, 10, 10]         262,144\n",
      "      BatchNorm2d-98         [-1, 1024, 10, 10]           2,048\n",
      "             ReLU-99         [-1, 1024, 10, 10]               0\n",
      "      Bottleneck-100         [-1, 1024, 10, 10]               0\n",
      "          Conv2d-101          [-1, 256, 10, 10]         262,144\n",
      "     BatchNorm2d-102          [-1, 256, 10, 10]             512\n",
      "            ReLU-103          [-1, 256, 10, 10]               0\n",
      "          Conv2d-104          [-1, 256, 10, 10]         589,824\n",
      "     BatchNorm2d-105          [-1, 256, 10, 10]             512\n",
      "            ReLU-106          [-1, 256, 10, 10]               0\n",
      "          Conv2d-107         [-1, 1024, 10, 10]         262,144\n",
      "     BatchNorm2d-108         [-1, 1024, 10, 10]           2,048\n",
      "            ReLU-109         [-1, 1024, 10, 10]               0\n",
      "      Bottleneck-110         [-1, 1024, 10, 10]               0\n",
      "          Conv2d-111          [-1, 256, 10, 10]         262,144\n",
      "     BatchNorm2d-112          [-1, 256, 10, 10]             512\n",
      "            ReLU-113          [-1, 256, 10, 10]               0\n",
      "          Conv2d-114          [-1, 256, 10, 10]         589,824\n",
      "     BatchNorm2d-115          [-1, 256, 10, 10]             512\n",
      "            ReLU-116          [-1, 256, 10, 10]               0\n",
      "          Conv2d-117         [-1, 1024, 10, 10]         262,144\n",
      "     BatchNorm2d-118         [-1, 1024, 10, 10]           2,048\n",
      "            ReLU-119         [-1, 1024, 10, 10]               0\n",
      "      Bottleneck-120         [-1, 1024, 10, 10]               0\n",
      "          Conv2d-121          [-1, 256, 10, 10]         262,144\n",
      "     BatchNorm2d-122          [-1, 256, 10, 10]             512\n",
      "            ReLU-123          [-1, 256, 10, 10]               0\n",
      "          Conv2d-124          [-1, 256, 10, 10]         589,824\n",
      "     BatchNorm2d-125          [-1, 256, 10, 10]             512\n",
      "            ReLU-126          [-1, 256, 10, 10]               0\n",
      "          Conv2d-127         [-1, 1024, 10, 10]         262,144\n",
      "     BatchNorm2d-128         [-1, 1024, 10, 10]           2,048\n",
      "            ReLU-129         [-1, 1024, 10, 10]               0\n",
      "      Bottleneck-130         [-1, 1024, 10, 10]               0\n",
      "          Conv2d-131          [-1, 256, 10, 10]         262,144\n",
      "     BatchNorm2d-132          [-1, 256, 10, 10]             512\n",
      "            ReLU-133          [-1, 256, 10, 10]               0\n",
      "          Conv2d-134          [-1, 256, 10, 10]         589,824\n",
      "     BatchNorm2d-135          [-1, 256, 10, 10]             512\n",
      "            ReLU-136          [-1, 256, 10, 10]               0\n",
      "          Conv2d-137         [-1, 1024, 10, 10]         262,144\n",
      "     BatchNorm2d-138         [-1, 1024, 10, 10]           2,048\n",
      "            ReLU-139         [-1, 1024, 10, 10]               0\n",
      "      Bottleneck-140         [-1, 1024, 10, 10]               0\n",
      "          Conv2d-141          [-1, 512, 10, 10]         524,288\n",
      "     BatchNorm2d-142          [-1, 512, 10, 10]           1,024\n",
      "            ReLU-143          [-1, 512, 10, 10]               0\n",
      "          Conv2d-144            [-1, 512, 5, 5]       2,359,296\n",
      "     BatchNorm2d-145            [-1, 512, 5, 5]           1,024\n",
      "            ReLU-146            [-1, 512, 5, 5]               0\n",
      "          Conv2d-147           [-1, 2048, 5, 5]       1,048,576\n",
      "     BatchNorm2d-148           [-1, 2048, 5, 5]           4,096\n",
      "          Conv2d-149           [-1, 2048, 5, 5]       2,097,152\n",
      "     BatchNorm2d-150           [-1, 2048, 5, 5]           4,096\n",
      "            ReLU-151           [-1, 2048, 5, 5]               0\n",
      "      Bottleneck-152           [-1, 2048, 5, 5]               0\n",
      "          Conv2d-153            [-1, 512, 5, 5]       1,048,576\n",
      "     BatchNorm2d-154            [-1, 512, 5, 5]           1,024\n",
      "            ReLU-155            [-1, 512, 5, 5]               0\n",
      "          Conv2d-156            [-1, 512, 5, 5]       2,359,296\n",
      "     BatchNorm2d-157            [-1, 512, 5, 5]           1,024\n",
      "            ReLU-158            [-1, 512, 5, 5]               0\n",
      "          Conv2d-159           [-1, 2048, 5, 5]       1,048,576\n",
      "     BatchNorm2d-160           [-1, 2048, 5, 5]           4,096\n",
      "            ReLU-161           [-1, 2048, 5, 5]               0\n",
      "      Bottleneck-162           [-1, 2048, 5, 5]               0\n",
      "          Conv2d-163            [-1, 512, 5, 5]       1,048,576\n",
      "     BatchNorm2d-164            [-1, 512, 5, 5]           1,024\n",
      "            ReLU-165            [-1, 512, 5, 5]               0\n",
      "          Conv2d-166            [-1, 512, 5, 5]       2,359,296\n",
      "     BatchNorm2d-167            [-1, 512, 5, 5]           1,024\n",
      "            ReLU-168            [-1, 512, 5, 5]               0\n",
      "          Conv2d-169           [-1, 2048, 5, 5]       1,048,576\n",
      "     BatchNorm2d-170           [-1, 2048, 5, 5]           4,096\n",
      "            ReLU-171           [-1, 2048, 5, 5]               0\n",
      "      Bottleneck-172           [-1, 2048, 5, 5]               0\n",
      "AdaptiveAvgPool2d-173           [-1, 2048, 1, 1]               0\n",
      "          Linear-174                    [-1, 2]           4,098\n",
      "================================================================\n",
      "Total params: 23,512,130\n",
      "Trainable params: 23,512,130\n",
      "Non-trainable params: 0\n",
      "----------------------------------------------------------------\n",
      "Input size (MB): 0.26\n",
      "Forward/backward pass size (MB): 135.13\n",
      "Params size (MB): 89.69\n",
      "Estimated Total Size (MB): 225.08\n",
      "----------------------------------------------------------------\n"
     ]
    }
   ],
   "source": [
    "summary(model, (3, 150, 150))"
   ]
  },
  {
   "cell_type": "code",
   "execution_count": 17,
   "metadata": {},
   "outputs": [
    {
     "name": "stderr",
     "output_type": "stream",
     "text": [
      "d:\\Anaconda\\envs\\pytorch\\lib\\site-packages\\torch\\nn\\_reduction.py:42: UserWarning: size_average and reduce args will be deprecated, please use reduction='mean' instead.\n",
      "  warnings.warn(warning.format(ret))\n"
     ]
    }
   ],
   "source": [
    "\n",
    "#Defining the model hyper parameters\n",
    "num_epochs = 50\n",
    "learning_rate = 0.00001\n",
    "weight_decay = 0.01\n",
    "weights = torch.Tensor([0.4, 0.6])\n",
    "#criterion = nn.CrossEntropyLoss()\n",
    "criterion = nn.BCELoss(size_average=True)\n",
    "criterion.to(device)\n",
    "#criterion = torch.nn.BCELoss(weight=weights)\n",
    "optimizer = torch.optim.Adam(model.parameters(), lr=learning_rate, weight_decay=weight_decay)"
   ]
  },
  {
   "cell_type": "code",
   "execution_count": 36,
   "metadata": {},
   "outputs": [
    {
     "name": "stderr",
     "output_type": "stream",
     "text": [
      "d:\\Anaconda\\envs\\pytorch\\lib\\site-packages\\torch\\nn\\functional.py:1960: UserWarning: nn.functional.sigmoid is deprecated. Use torch.sigmoid instead.\n",
      "  warnings.warn(\"nn.functional.sigmoid is deprecated. Use torch.sigmoid instead.\")\n"
     ]
    },
    {
     "name": "stdout",
     "output_type": "stream",
     "text": [
      "tensor(7.3331, device='cuda:0', grad_fn=<BinaryCrossEntropyBackward0>)\n"
     ]
    }
   ],
   "source": [
    "dataiter = iter(train_loader)\n",
    "images, labels = dataiter.next()\n",
    "images = images.to(device)\n",
    "labels = labels.to(device)\n",
    "#print(labels.shape)\n",
    "outputs = model(images)\n",
    "labels = F.one_hot(labels, num_classes=2)\n",
    "#print(torch.sigmoid(outputs))\n",
    "loss = criterion(F.sigmoid(outputs), labels.float())\n",
    "print(loss)\n",
    "#loss = criterion(outputs, labels)"
   ]
  },
  {
   "cell_type": "code",
   "execution_count": 30,
   "metadata": {},
   "outputs": [
    {
     "name": "stdout",
     "output_type": "stream",
     "text": [
      "torch.Size([32, 2])\n"
     ]
    }
   ],
   "source": [
    "labels = F.one_hot(labels, num_classes=2)\n",
    "print(labels.shape)\n"
   ]
  },
  {
   "cell_type": "code",
   "execution_count": 18,
   "metadata": {},
   "outputs": [],
   "source": [
    " \n",
    "#Training process begins for Normal Data\n",
    "def trainmodel(model, num_epochs, loader, criterion, optimizer):\n",
    "    train_loss_list = []\n",
    "    train_acc = 0\n",
    "    for epoch in range(num_epochs):\n",
    "        print(f'Epoch {epoch+1}/{num_epochs}:', end = ' ')\n",
    "        train_loss = 0\n",
    "      \n",
    "        #Iterating over the training dataset in batches\n",
    "        model.train()\n",
    "        for i, (images, labels) in enumerate(loader):\n",
    "            #if i > 0 and i%5 == 0:\n",
    "            #images, labels = mixup(images, labels, 0.2, 2)\n",
    "\n",
    "          \n",
    "            #Extracting images and target labels for the batch being iterated\n",
    "            images = images.to(device)\n",
    "            labels = labels.to(device)\n",
    "  \n",
    "            #Calculating the model output and the cross entropy loss\n",
    "            outputs = model(images)\n",
    "            loss = criterion(nn.Sigmoid(outputs), labels.unsqueeze(1))\n",
    "  \n",
    "            #Updating weights according to calculated loss\n",
    "            optimizer.zero_grad()\n",
    "            loss.backward()\n",
    "            optimizer.step()\n",
    "            train_loss += loss.item() \n",
    "            _, y_pred = torch.max(outputs.data, 1)\n",
    "\n",
    "            #Comparing predicted and true labels\n",
    "            train_acc += (y_pred == labels).sum().item()\n",
    "      \n",
    "        print(f\"Train set accuracy = {100 * train_acc / len(loader)} %\")\n",
    "      \n",
    "        #Printing loss for each epoch\n",
    "        train_loss_list.append(train_loss/len(loader))\n",
    "        print(f\"Training loss = {train_loss_list[-1]}\")   \n",
    "      \n",
    "    #Plotting loss for all epochs\n",
    "    plt.plot(range(1,num_epochs+1), train_loss_list)\n",
    "    plt.xlabel(\"Number of epochs\")\n",
    "    plt.ylabel(\"Training loss\")\n",
    "    return\n"
   ]
  },
  {
   "cell_type": "code",
   "execution_count": 24,
   "metadata": {},
   "outputs": [],
   "source": [
    "def trainmodel(model, num_epochs, loader, criterion, optimizer):\n",
    "    correct = 0\n",
    "    total = 0\n",
    "    train_loss_list = []\n",
    "    for epoch in range(num_epochs):\n",
    "        train_loss = 0\n",
    "        for i, (images, labels) in enumerate(loader):\n",
    "            images = images.to(device)\n",
    "            labels = labels.to(device)\n",
    "            y_true = labels.to(device)\n",
    "  \n",
    "            outputs = model(images)\n",
    "            labels = F.one_hot(labels, num_classes=2)\n",
    "            loss = criterion(F.sigmoid(outputs), labels.float())\n",
    "  \n",
    "            optimizer.zero_grad()\n",
    "            loss.backward()\n",
    "            optimizer.step()\n",
    "            train_loss += loss.item() \n",
    "            _, predicted = torch.max(outputs.data, 1)\n",
    "            total += y_true.size(0)\n",
    "            correct += (predicted == y_true).sum().item()\n",
    "\n",
    "        #Accuracy\n",
    "        train_loss_list.append(train_loss/len(loader))\n",
    "        accuracy = 100 * correct / total\n",
    "        print(\"Epoch {}/{}, Loss: {:.3f}, Accuracy: {:.3f}\".format(epoch+1,num_epochs, train_loss_list[-1], accuracy))\n",
    "    plt.plot(range(1,num_epochs), train_loss_list)\n",
    "    plt.xlabel(\"Number of epochs\")\n",
    "    plt.ylabel(\"Training loss\")\n",
    "    return"
   ]
  },
  {
   "cell_type": "code",
   "execution_count": 22,
   "metadata": {},
   "outputs": [],
   "source": [
    "import gc\n",
    "\n",
    "gc.collect()\n",
    "\n",
    "torch.cuda.empty_cache()"
   ]
  },
  {
   "cell_type": "code",
   "execution_count": 23,
   "metadata": {},
   "outputs": [
    {
     "name": "stderr",
     "output_type": "stream",
     "text": [
      "d:\\Anaconda\\envs\\pytorch\\lib\\site-packages\\torch\\nn\\functional.py:1960: UserWarning: nn.functional.sigmoid is deprecated. Use torch.sigmoid instead.\n",
      "  warnings.warn(\"nn.functional.sigmoid is deprecated. Use torch.sigmoid instead.\")\n"
     ]
    },
    {
     "name": "stdout",
     "output_type": "stream",
     "text": [
      "Epoch 1/50, Loss: 0.560, Accuracy: 74.312\n",
      "Epoch 2/50, Loss: 0.513, Accuracy: 74.420\n",
      "Epoch 3/50, Loss: 0.420, Accuracy: 76.157\n",
      "Epoch 4/50, Loss: 0.362, Accuracy: 77.832\n",
      "Epoch 5/50, Loss: 0.339, Accuracy: 79.090\n",
      "Epoch 6/50, Loss: 0.320, Accuracy: 80.074\n",
      "Epoch 7/50, Loss: 0.307, Accuracy: 80.861\n",
      "Epoch 8/50, Loss: 0.299, Accuracy: 81.520\n",
      "Epoch 9/50, Loss: 0.284, Accuracy: 82.087\n",
      "Epoch 10/50, Loss: 0.284, Accuracy: 82.567\n",
      "Epoch 11/50, Loss: 0.270, Accuracy: 82.996\n",
      "Epoch 12/50, Loss: 0.268, Accuracy: 83.355\n",
      "Epoch 13/50, Loss: 0.262, Accuracy: 83.708\n",
      "Epoch 14/50, Loss: 0.252, Accuracy: 84.034\n",
      "Epoch 15/50, Loss: 0.248, Accuracy: 84.314\n",
      "Epoch 16/50, Loss: 0.241, Accuracy: 84.575\n",
      "Epoch 17/50, Loss: 0.238, Accuracy: 84.844\n",
      "Epoch 18/50, Loss: 0.231, Accuracy: 85.057\n",
      "Epoch 19/50, Loss: 0.230, Accuracy: 85.270\n",
      "Epoch 20/50, Loss: 0.224, Accuracy: 85.476\n",
      "Epoch 21/50, Loss: 0.215, Accuracy: 85.662\n",
      "Epoch 22/50, Loss: 0.207, Accuracy: 85.873\n",
      "Epoch 23/50, Loss: 0.213, Accuracy: 86.019\n",
      "Epoch 24/50, Loss: 0.212, Accuracy: 86.168\n",
      "Epoch 25/50, Loss: 0.201, Accuracy: 86.330\n",
      "Epoch 26/50, Loss: 0.197, Accuracy: 86.487\n",
      "Epoch 27/50, Loss: 0.192, Accuracy: 86.636\n",
      "Epoch 28/50, Loss: 0.191, Accuracy: 86.781\n",
      "Epoch 29/50, Loss: 0.192, Accuracy: 86.909\n",
      "Epoch 30/50, Loss: 0.182, Accuracy: 87.038\n",
      "Epoch 31/50, Loss: 0.179, Accuracy: 87.159\n",
      "Epoch 32/50, Loss: 0.180, Accuracy: 87.275\n",
      "Epoch 33/50, Loss: 0.177, Accuracy: 87.397\n",
      "Epoch 34/50, Loss: 0.174, Accuracy: 87.508\n",
      "Epoch 35/50, Loss: 0.172, Accuracy: 87.618\n",
      "Epoch 36/50, Loss: 0.169, Accuracy: 87.728\n",
      "Epoch 37/50, Loss: 0.163, Accuracy: 87.841\n",
      "Epoch 38/50, Loss: 0.165, Accuracy: 87.942\n",
      "Epoch 39/50, Loss: 0.161, Accuracy: 88.048\n",
      "Epoch 40/50, Loss: 0.164, Accuracy: 88.141\n",
      "Epoch 41/50, Loss: 0.160, Accuracy: 88.229\n",
      "Epoch 42/50, Loss: 0.158, Accuracy: 88.318\n",
      "Epoch 43/50, Loss: 0.154, Accuracy: 88.411\n",
      "Epoch 44/50, Loss: 0.153, Accuracy: 88.497\n",
      "Epoch 45/50, Loss: 0.149, Accuracy: 88.586\n",
      "Epoch 46/50, Loss: 0.149, Accuracy: 88.667\n",
      "Epoch 47/50, Loss: 0.148, Accuracy: 88.749\n",
      "Epoch 48/50, Loss: 0.146, Accuracy: 88.827\n",
      "Epoch 49/50, Loss: 0.146, Accuracy: 88.902\n",
      "Epoch 50/50, Loss: 0.141, Accuracy: 88.980\n"
     ]
    }
   ],
   "source": [
    "trainmodel(model, num_epochs, train_loader, criterion, optimizer)"
   ]
  },
  {
   "cell_type": "code",
   "execution_count": 25,
   "metadata": {},
   "outputs": [],
   "source": [
    "def testmodel(model, loader):\n",
    "    test_acc=0\n",
    "    model.eval()\n",
    "  \n",
    "    with torch.no_grad():\n",
    "        #Iterating over the training dataset in batches\n",
    "        for i, (images, labels) in enumerate(loader):\n",
    "          \n",
    "            images = images.to(device)\n",
    "            y_true = labels.to(device)\n",
    "          \n",
    "            #Calculating outputs for the batch being iterated\n",
    "            outputs = model(images)\n",
    "          \n",
    "            #Calculated prediction labels from models\n",
    "            _, y_pred = torch.max(outputs.data, 1)\n",
    "\n",
    "            #Comparing predicted and true labels\n",
    "            test_acc += (y_pred == y_true).sum().item()\n",
    "      \n",
    "        print(f\"Test set accuracy = {100 * test_acc / len(test_dataset)} %\")"
   ]
  },
  {
   "cell_type": "code",
   "execution_count": 26,
   "metadata": {},
   "outputs": [
    {
     "name": "stdout",
     "output_type": "stream",
     "text": [
      "Test set accuracy = 91.70251997541487 %\n"
     ]
    }
   ],
   "source": [
    "testmodel(model, test_loader)"
   ]
  },
  {
   "cell_type": "code",
   "execution_count": 27,
   "metadata": {},
   "outputs": [],
   "source": [
    "torch.save(model.state_dict(), 'resnet50.pth')"
   ]
  },
  {
   "cell_type": "code",
   "execution_count": 28,
   "metadata": {},
   "outputs": [
    {
     "data": {
      "text/plain": [
       "<All keys matched successfully>"
      ]
     },
     "execution_count": 28,
     "metadata": {},
     "output_type": "execute_result"
    }
   ],
   "source": [
    "fname = 'D:\\\\Git\\\\Research Paper\\\\Research_Project\\\\projectCNN.pth'\n",
    "loaded_dict = torch.load(fname)\n",
    "model.load_state_dict(loaded_dict)"
   ]
  },
  {
   "cell_type": "code",
   "execution_count": 21,
   "metadata": {},
   "outputs": [
    {
     "ename": "NameError",
     "evalue": "name 'images' is not defined",
     "output_type": "error",
     "traceback": [
      "\u001b[1;31m---------------------------------------------------------------------------\u001b[0m",
      "\u001b[1;31mNameError\u001b[0m                                 Traceback (most recent call last)",
      "\u001b[1;32md:\\Git\\Research Paper\\Research_Project\\Project.ipynb Cell 31\u001b[0m in \u001b[0;36m<cell line: 1>\u001b[1;34m()\u001b[0m\n\u001b[1;32m----> <a href='vscode-notebook-cell:/d%3A/Git/Research%20Paper/Research_Project/Project.ipynb#ch0000030?line=0'>1</a>\u001b[0m images \u001b[39m=\u001b[39m images\u001b[39m.\u001b[39mto(device)\n\u001b[0;32m      <a href='vscode-notebook-cell:/d%3A/Git/Research%20Paper/Research_Project/Project.ipynb#ch0000030?line=1'>2</a>\u001b[0m y_true \u001b[39m=\u001b[39m labels\u001b[39m.\u001b[39mto(device)\n\u001b[0;32m      <a href='vscode-notebook-cell:/d%3A/Git/Research%20Paper/Research_Project/Project.ipynb#ch0000030?line=2'>3</a>\u001b[0m outputs \u001b[39m=\u001b[39m model(images)\n",
      "\u001b[1;31mNameError\u001b[0m: name 'images' is not defined"
     ]
    }
   ],
   "source": [
    "images = images.to(device)\n",
    "y_true = labels.to(device)\n",
    "outputs = model(images)\n",
    "print(outputs)"
   ]
  },
  {
   "cell_type": "code",
   "execution_count": 29,
   "metadata": {},
   "outputs": [],
   "source": [
    "def predict_img_class(img,model):\n",
    "    \"\"\" Predict the class of image and Return Predicted Class\"\"\"\n",
    "    img = to_device(img.unsqueeze(0), device)\n",
    "    prediction =  model(img)\n",
    "    _, preds = torch.max(prediction, dim = 1)\n",
    "    return dataset.classes[preds[0].item()]"
   ]
  },
  {
   "cell_type": "code",
   "execution_count": 30,
   "metadata": {},
   "outputs": [],
   "source": [
    "def to_device(data, device):\n",
    "    \"Move data to the device\"\n",
    "    if isinstance(data,(list,tuple)):\n",
    "        return [to_device(x,device) for x in data]\n",
    "    return data.to(device,non_blocking = True)"
   ]
  },
  {
   "cell_type": "code",
   "execution_count": 31,
   "metadata": {},
   "outputs": [
    {
     "name": "stderr",
     "output_type": "stream",
     "text": [
      "Clipping input data to the valid range for imshow with RGB data ([0..1] for floats or [0..255] for integers).\n"
     ]
    },
    {
     "name": "stdout",
     "output_type": "stream",
     "text": [
      "Predicted Class : Stone\n"
     ]
    },
    {
     "data": {
      "image/png": "[encoded data removed]",
      "text/plain": [
       "<Figure size 432x288 with 1 Axes>"
      ]
     },
     "metadata": {
      "needs_background": "light"
     },
     "output_type": "display_data"
    }
   ],
   "source": [
    "from PIL import Image\n",
    "\n",
    "#open image file\n",
    "img_path = \"D:\\Git\\Research Paper\\DataSet - Mehedi Hasan, Medical Technologist, Bangladesh Hospitals\\Test\\Stone\\Stone- (1100).jpg\"\n",
    "img = Image.open(img_path)\n",
    "\n",
    "#convert image to tensor\n",
    "img = normalize_transform(img)\n",
    "\n",
    "#print image\n",
    "plt.imshow(img.permute(1,2,0))\n",
    "\n",
    "#prdict image label\n",
    "print(f\"Predicted Class : {predict_img_class(img,model)}\")"
   ]
  },
  {
   "cell_type": "markdown",
   "metadata": {},
   "source": [
    "Computer Vision"
   ]
  },
  {
   "cell_type": "code",
   "execution_count": 32,
   "metadata": {},
   "outputs": [],
   "source": [
    "from scipy.spatial import distance as dist\n",
    "from imutils import perspective\n",
    "from imutils import contours\n",
    "import numpy as np\n",
    "import argparse\n",
    "import imutils\n",
    "import cv2"
   ]
  },
  {
   "cell_type": "code",
   "execution_count": 36,
   "metadata": {},
   "outputs": [],
   "source": [
    "def midpoint(ptA, ptB):\n",
    "\treturn ((ptA[0] + ptB[0]) * 0.5, (ptA[1] + ptB[1]) * 0.5)"
   ]
  },
  {
   "cell_type": "code",
   "execution_count": 33,
   "metadata": {},
   "outputs": [],
   "source": [
    "image = cv2.imread(img_path)\n",
    "gray = cv2.cvtColor(image, cv2.COLOR_BGR2GRAY)\n",
    "gray = cv2.GaussianBlur(gray, (7, 7), 0)\n",
    "\n",
    "\n",
    "edged = cv2.Canny(gray, 50, 100)\n",
    "edged = cv2.dilate(edged, None, iterations=1)\n",
    "edged = cv2.erode(edged, None, iterations=1)\n",
    "\n",
    "\n",
    "cnts = cv2.findContours(edged.copy(), cv2.RETR_EXTERNAL,\n",
    "\tcv2.CHAIN_APPROX_SIMPLE)\n",
    "cnts = imutils.grab_contours(cnts)\n",
    "\n",
    "\n",
    "(cnts, _) = contours.sort_contours(cnts)\n",
    "pixelsPerMetric = None"
   ]
  },
  {
   "cell_type": "code",
   "execution_count": 37,
   "metadata": {},
   "outputs": [],
   "source": [
    "for c in cnts:\n",
    "    \t# if the contour is not sufficiently large, ignore it\n",
    "\tif cv2.contourArea(c) < 100:\n",
    "\t\tcontinue\n",
    "\t# compute the rotated bounding box of the contour\n",
    "\torig = image.copy()\n",
    "\tbox = cv2.minAreaRect(c)\n",
    "\tbox = cv2.cv.BoxPoints(box) if imutils.is_cv2() else cv2.boxPoints(box)\n",
    "\tbox = np.array(box, dtype=\"int\")\n",
    "\t# order the points in the contour such that they appear\n",
    "\t# in top-left, top-right, bottom-right, and bottom-left\n",
    "\t# order, then draw the outline of the rotated bounding\n",
    "\t# box\n",
    "\tbox = perspective.order_points(box)\n",
    "\tcv2.drawContours(orig, [box.astype(\"int\")], -1, (0, 255, 0), 2)\n",
    "\t# loop over the original points and draw them\n",
    "\tfor (x, y) in box:\n",
    "\t\tcv2.circle(orig, (int(x), int(y)), 5, (0, 0, 255), -1)"
   ]
  },
  {
   "cell_type": "code",
   "execution_count": 38,
   "metadata": {},
   "outputs": [
    {
     "data": {
      "text/plain": [
       "array([[[0, 0, 0],\n",
       "        [0, 0, 0],\n",
       "        [0, 0, 0],\n",
       "        ...,\n",
       "        [0, 0, 0],\n",
       "        [0, 0, 0],\n",
       "        [0, 0, 0]],\n",
       "\n",
       "       [[0, 0, 0],\n",
       "        [0, 0, 0],\n",
       "        [0, 0, 0],\n",
       "        ...,\n",
       "        [0, 0, 0],\n",
       "        [0, 0, 0],\n",
       "        [0, 0, 0]],\n",
       "\n",
       "       [[0, 0, 0],\n",
       "        [0, 0, 0],\n",
       "        [0, 0, 0],\n",
       "        ...,\n",
       "        [0, 0, 0],\n",
       "        [0, 0, 0],\n",
       "        [0, 0, 0]],\n",
       "\n",
       "       ...,\n",
       "\n",
       "       [[0, 0, 0],\n",
       "        [0, 0, 0],\n",
       "        [0, 0, 0],\n",
       "        ...,\n",
       "        [0, 0, 0],\n",
       "        [0, 0, 0],\n",
       "        [0, 0, 0]],\n",
       "\n",
       "       [[0, 0, 0],\n",
       "        [0, 0, 0],\n",
       "        [0, 0, 0],\n",
       "        ...,\n",
       "        [0, 0, 0],\n",
       "        [0, 0, 0],\n",
       "        [0, 0, 0]],\n",
       "\n",
       "       [[0, 0, 0],\n",
       "        [0, 0, 0],\n",
       "        [0, 0, 0],\n",
       "        ...,\n",
       "        [0, 0, 0],\n",
       "        [0, 0, 0],\n",
       "        [0, 0, 0]]], dtype=uint8)"
      ]
     },
     "execution_count": 38,
     "metadata": {},
     "output_type": "execute_result"
    }
   ],
   "source": [
    "\t(tl, tr, br, bl) = box\n",
    "\t(tltrX, tltrY) = midpoint(tl, tr)\n",
    "\t(blbrX, blbrY) = midpoint(bl, br)\n",
    "\t# compute the midpoint between the top-left and top-right points,\n",
    "\t# followed by the midpoint between the top-righ and bottom-right\n",
    "\t(tlblX, tlblY) = midpoint(tl, bl)\n",
    "\t(trbrX, trbrY) = midpoint(tr, br)\n",
    "\t# draw the midpoints on the image\n",
    "\tcv2.circle(orig, (int(tltrX), int(tltrY)), 5, (255, 0, 0), -1)\n",
    "\tcv2.circle(orig, (int(blbrX), int(blbrY)), 5, (255, 0, 0), -1)\n",
    "\tcv2.circle(orig, (int(tlblX), int(tlblY)), 5, (255, 0, 0), -1)\n",
    "\tcv2.circle(orig, (int(trbrX), int(trbrY)), 5, (255, 0, 0), -1)\n",
    "\t# draw lines between the midpoints\n",
    "\tcv2.line(orig, (int(tltrX), int(tltrY)), (int(blbrX), int(blbrY)),\n",
    "\t\t(255, 0, 255), 2)\n",
    "\tcv2.line(orig, (int(tlblX), int(tlblY)), (int(trbrX), int(trbrY)),\n",
    "\t\t(255, 0, 255), 2)"
   ]
  },
  {
   "cell_type": "code",
   "execution_count": 39,
   "metadata": {},
   "outputs": [],
   "source": [
    "\tdA = dist.euclidean((tltrX, tltrY), (blbrX, blbrY))\n",
    "\tdB = dist.euclidean((tlblX, tlblY), (trbrX, trbrY))\n",
    "\t# if the pixels per metric has not been initialized, then\n",
    "\t# compute it as the ratio of pixels to supplied metric\n",
    "\t# (in this case, inches)\n",
    "\tif pixelsPerMetric is None:\n",
    "\t\tpixelsPerMetric = dB / 3"
   ]
  },
  {
   "cell_type": "code",
   "execution_count": 1,
   "metadata": {},
   "outputs": [
    {
     "ename": "NameError",
     "evalue": "name 'dA' is not defined",
     "output_type": "error",
     "traceback": [
      "\u001b[1;31m---------------------------------------------------------------------------\u001b[0m",
      "\u001b[1;31mNameError\u001b[0m                                 Traceback (most recent call last)",
      "\u001b[1;32md:\\Git\\Research Paper\\Research_Project\\Project.ipynb Cell 41\u001b[0m in \u001b[0;36m<cell line: 1>\u001b[1;34m()\u001b[0m\n\u001b[1;32m----> <a href='vscode-notebook-cell:/d%3A/Git/Research%20Paper/Research_Project/Project.ipynb#ch0000040?line=0'>1</a>\u001b[0m dimA \u001b[39m=\u001b[39m dA \u001b[39m/\u001b[39m pixelsPerMetric\n\u001b[0;32m      <a href='vscode-notebook-cell:/d%3A/Git/Research%20Paper/Research_Project/Project.ipynb#ch0000040?line=1'>2</a>\u001b[0m dimB \u001b[39m=\u001b[39m dB \u001b[39m/\u001b[39m pixelsPerMetric\n\u001b[0;32m      <a href='vscode-notebook-cell:/d%3A/Git/Research%20Paper/Research_Project/Project.ipynb#ch0000040?line=2'>3</a>\u001b[0m \u001b[39m# draw the object sizes on the image\u001b[39;00m\n",
      "\u001b[1;31mNameError\u001b[0m: name 'dA' is not defined"
     ]
    }
   ],
   "source": [
    "\tdimA = dA / pixelsPerMetric\n",
    "\tdimB = dB / pixelsPerMetric\n",
    "\t# draw the object sizes on the image\n",
    "\tcv2.putText(orig, \"{:.1f}in\".format(dimA),\n",
    "\t\t(int(tltrX - 15), int(tltrY - 10)), cv2.FONT_HERSHEY_SIMPLEX,\n",
    "\t\t0.65, (255, 255, 255), 2)\n",
    "\tcv2.putText(orig, \"{:.1f}in\".format(dimB),\n",
    "\t\t(int(trbrX + 10), int(trbrY)), cv2.FONT_HERSHEY_SIMPLEX,\n",
    "\t\t0.65, (255, 255, 255), 2)\n",
    "\t# show the output image\n",
    "\tcv2.imshow(\"Image\", orig)\n",
    "\tcv2.waitKey(0)"
   ]
  },
  {
   "cell_type": "code",
   "execution_count": null,
   "metadata": {},
   "outputs": [],
   "source": []
  }
 ],
 "metadata": {
  "kernelspec": {
   "display_name": "Python 3.10.5 ('pytorch')",
   "language": "python",
   "name": "python3"
  },
  "language_info": {
   "codemirror_mode": {
    "name": "ipython",
    "version": 3
   },
   "file_extension": ".py",
   "mimetype": "text/x-python",
   "name": "python",
   "nbconvert_exporter": "python",
   "pygments_lexer": "ipython3",
   "version": "3.10.5"
  },
  "orig_nbformat": 4,
  "vscode": {
   "interpreter": {
    "hash": "0747f93ff6db21b2db2bf35ad4858dd0825b9c21797c41b4cc32097944ab3f10"
   }
  }
 },
 "nbformat": 4,
 "nbformat_minor": 2
}
