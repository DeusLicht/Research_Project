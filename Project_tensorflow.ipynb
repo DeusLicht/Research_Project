{
 "cells": [
  {
   "cell_type": "code",
   "execution_count": 1,
   "metadata": {},
   "outputs": [],
   "source": [
    "import os\n",
    "\n",
    "import numpy as np\n",
    "\n",
    "from keras import layers, models\n",
    "\n",
    "import tensorflow as tf\n",
    "from tensorflow.keras.applications import VGG19\n",
    "from keras.preprocessing.image import ImageDataGenerator\n",
    "from tensorflow.keras import optimizers, regularizers\n",
    "from tensorflow.keras.models import load_model\n",
    "from tensorflow.keras.callbacks import EarlyStopping\n",
    "\n",
    "from sklearn.metrics import confusion_matrix\n",
    "\n",
    "import seaborn as sns\n",
    "%matplotlib inline\n",
    "import matplotlib.pyplot as plt\n",
    "import matplotlib.image as mpimg\n",
    "import cv2\n",
    "from pathlib import Path\n",
    "import pandas as pd\n",
    "from skimage.io import imread"
   ]
  },
  {
   "cell_type": "code",
   "execution_count": 16,
   "metadata": {},
   "outputs": [
    {
     "ename": "ValueError",
     "evalue": "Setting memory limit is required for GPU virtual devices",
     "output_type": "error",
     "traceback": [
      "\u001b[1;31m---------------------------------------------------------------------------\u001b[0m",
      "\u001b[1;31mValueError\u001b[0m                                Traceback (most recent call last)",
      "\u001b[1;32md:\\Git\\Research Paper\\Research_Project\\Project_tensorflow.ipynb Cell 2\u001b[0m in \u001b[0;36m<cell line: 2>\u001b[1;34m()\u001b[0m\n\u001b[0;32m      <a href='vscode-notebook-cell:/d%3A/Git/Research%20Paper/Research_Project/Project_tensorflow.ipynb#ch0000001?line=1'>2</a>\u001b[0m \u001b[39mif\u001b[39;00m gpus:\n\u001b[0;32m      <a href='vscode-notebook-cell:/d%3A/Git/Research%20Paper/Research_Project/Project_tensorflow.ipynb#ch0000001?line=2'>3</a>\u001b[0m   \u001b[39m# Restrict TensorFlow to only allocate 1GB of memory on the first GPU\u001b[39;00m\n\u001b[0;32m      <a href='vscode-notebook-cell:/d%3A/Git/Research%20Paper/Research_Project/Project_tensorflow.ipynb#ch0000001?line=3'>4</a>\u001b[0m   \u001b[39mtry\u001b[39;00m:\n\u001b[1;32m----> <a href='vscode-notebook-cell:/d%3A/Git/Research%20Paper/Research_Project/Project_tensorflow.ipynb#ch0000001?line=4'>5</a>\u001b[0m     tf\u001b[39m.\u001b[39;49mconfig\u001b[39m.\u001b[39;49mexperimental\u001b[39m.\u001b[39;49mset_virtual_device_configuration(\n\u001b[0;32m      <a href='vscode-notebook-cell:/d%3A/Git/Research%20Paper/Research_Project/Project_tensorflow.ipynb#ch0000001?line=5'>6</a>\u001b[0m         gpus[\u001b[39m0\u001b[39;49m],\n\u001b[0;32m      <a href='vscode-notebook-cell:/d%3A/Git/Research%20Paper/Research_Project/Project_tensorflow.ipynb#ch0000001?line=6'>7</a>\u001b[0m         [tf\u001b[39m.\u001b[39;49mconfig\u001b[39m.\u001b[39;49mexperimental\u001b[39m.\u001b[39;49mVirtualDeviceConfiguration()])\n\u001b[0;32m      <a href='vscode-notebook-cell:/d%3A/Git/Research%20Paper/Research_Project/Project_tensorflow.ipynb#ch0000001?line=7'>8</a>\u001b[0m     logical_gpus \u001b[39m=\u001b[39m tf\u001b[39m.\u001b[39mconfig\u001b[39m.\u001b[39mexperimental\u001b[39m.\u001b[39mlist_logical_devices(\u001b[39m'\u001b[39m\u001b[39mGPU\u001b[39m\u001b[39m'\u001b[39m)\n\u001b[0;32m      <a href='vscode-notebook-cell:/d%3A/Git/Research%20Paper/Research_Project/Project_tensorflow.ipynb#ch0000001?line=8'>9</a>\u001b[0m     \u001b[39mprint\u001b[39m(\u001b[39mlen\u001b[39m(gpus), \u001b[39m\"\u001b[39m\u001b[39mPhysical GPUs,\u001b[39m\u001b[39m\"\u001b[39m, \u001b[39mlen\u001b[39m(logical_gpus), \u001b[39m\"\u001b[39m\u001b[39mLogical GPUs\u001b[39m\u001b[39m\"\u001b[39m)\n",
      "File \u001b[1;32md:\\Anaconda\\envs\\tensorflow\\lib\\site-packages\\tensorflow\\python\\framework\\config.py:874\u001b[0m, in \u001b[0;36mset_logical_device_configuration\u001b[1;34m(device, logical_devices)\u001b[0m\n\u001b[0;32m    805\u001b[0m \u001b[39m@tf_export\u001b[39m(\u001b[39m'\u001b[39m\u001b[39mconfig.set_logical_device_configuration\u001b[39m\u001b[39m'\u001b[39m,\n\u001b[0;32m    806\u001b[0m            \u001b[39m'\u001b[39m\u001b[39mconfig.experimental.set_virtual_device_configuration\u001b[39m\u001b[39m'\u001b[39m)\n\u001b[0;32m    807\u001b[0m \u001b[39m@deprecation\u001b[39m\u001b[39m.\u001b[39mdeprecated_endpoints(\n\u001b[0;32m    808\u001b[0m     \u001b[39m'\u001b[39m\u001b[39mconfig.experimental.set_virtual_device_configuration\u001b[39m\u001b[39m'\u001b[39m)\n\u001b[0;32m    809\u001b[0m \u001b[39mdef\u001b[39;00m \u001b[39mset_logical_device_configuration\u001b[39m(device, logical_devices):\n\u001b[0;32m    810\u001b[0m   \u001b[39m\"\"\"Set the logical device configuration for a `tf.config.PhysicalDevice`.\u001b[39;00m\n\u001b[0;32m    811\u001b[0m \n\u001b[0;32m    812\u001b[0m \u001b[39m  A visible `tf.config.PhysicalDevice` will by default have a single\u001b[39;00m\n\u001b[1;32m   (...)\u001b[0m\n\u001b[0;32m    872\u001b[0m \u001b[39m    RuntimeError: Runtime is already initialized.\u001b[39;00m\n\u001b[0;32m    873\u001b[0m \u001b[39m  \"\"\"\u001b[39;00m\n\u001b[1;32m--> 874\u001b[0m   context\u001b[39m.\u001b[39;49mcontext()\u001b[39m.\u001b[39;49mset_logical_device_configuration(device, logical_devices)\n",
      "File \u001b[1;32md:\\Anaconda\\envs\\tensorflow\\lib\\site-packages\\tensorflow\\python\\eager\\context.py:1681\u001b[0m, in \u001b[0;36mContext.set_logical_device_configuration\u001b[1;34m(self, dev, virtual_devices)\u001b[0m\n\u001b[0;32m   1679\u001b[0m   \u001b[39mfor\u001b[39;00m vdev \u001b[39min\u001b[39;00m virtual_devices:\n\u001b[0;32m   1680\u001b[0m     \u001b[39mif\u001b[39;00m vdev\u001b[39m.\u001b[39mmemory_limit \u001b[39mis\u001b[39;00m \u001b[39mNone\u001b[39;00m:\n\u001b[1;32m-> 1681\u001b[0m       \u001b[39mraise\u001b[39;00m \u001b[39mValueError\u001b[39;00m(\n\u001b[0;32m   1682\u001b[0m           \u001b[39m\"\u001b[39m\u001b[39mSetting memory limit is required for GPU virtual devices\u001b[39m\u001b[39m\"\u001b[39m)\n\u001b[0;32m   1683\u001b[0m \u001b[39melse\u001b[39;00m:\n\u001b[0;32m   1684\u001b[0m   \u001b[39mraise\u001b[39;00m \u001b[39mValueError\u001b[39;00m(\u001b[39m\"\u001b[39m\u001b[39mVirtual devices are not supported for \u001b[39m\u001b[39m%s\u001b[39;00m\u001b[39m\"\u001b[39m \u001b[39m%\u001b[39m\n\u001b[0;32m   1685\u001b[0m                    dev\u001b[39m.\u001b[39mdevice_type)\n",
      "\u001b[1;31mValueError\u001b[0m: Setting memory limit is required for GPU virtual devices"
     ]
    }
   ],
   "source": [
    "gpus = tf.config.list_physical_devices('GPU')\n",
    "if gpus:\n",
    "  # Restrict TensorFlow to only allocate 1GB of memory on the first GPU\n",
    "  try:\n",
    "    tf.config.experimental.set_virtual_device_configuration(\n",
    "        gpus[0],\n",
    "        [tf.config.experimental.VirtualDeviceConfiguration()])\n",
    "    logical_gpus = tf.config.experimental.list_logical_devices('GPU')\n",
    "    print(len(gpus), \"Physical GPUs,\", len(logical_gpus), \"Logical GPUs\")\n",
    "  except RuntimeError as e:\n",
    "    # Virtual devices must be set before GPUs have been initialized\n",
    "    print(e)"
   ]
  },
  {
   "cell_type": "code",
   "execution_count": 4,
   "metadata": {},
   "outputs": [],
   "source": [
    "data_dir = Path('D:\\Git\\Research Paper\\DataSet - Mehedi Hasan, Medical Technologist, Bangladesh Hospitals\\Project')\n",
    "train_dir = data_dir / 'Train'\n",
    "test_dir = data_dir / 'Test'"
   ]
  },
  {
   "cell_type": "code",
   "execution_count": 5,
   "metadata": {},
   "outputs": [],
   "source": [
    "train_datagen = ImageDataGenerator(rescale=1./255,  \n",
    "                                   rotation_range=40,\n",
    "                                    width_shift_range=0.2,\n",
    "                                    height_shift_range=0.2,\n",
    "                                    shear_range=0.2,\n",
    "                                    horizontal_flip=True,\n",
    "                                    fill_mode='nearest',\n",
    "                                    validation_split=0.2)"
   ]
  },
  {
   "cell_type": "code",
   "execution_count": 6,
   "metadata": {},
   "outputs": [
    {
     "name": "stdout",
     "output_type": "stream",
     "text": [
      "Found 6506 images belonging to 2 classes.\n",
      "Found 1626 images belonging to 2 classes.\n"
     ]
    }
   ],
   "source": [
    "train_set= train_datagen.flow_from_directory(train_dir,\n",
    "                                                    target_size=(224, 224),\n",
    "                                                    batch_size=64,\n",
    "                                                    class_mode='categorical',\n",
    "                                                    subset='training')\n",
    "#validation data\n",
    "validation_set = train_datagen.flow_from_directory(train_dir,\n",
    "                                                        target_size=(224, 224),\n",
    "                                                        batch_size=64,\n",
    "                                                        class_mode='categorical',\n",
    "                                                        subset='validation')"
   ]
  },
  {
   "cell_type": "code",
   "execution_count": 7,
   "metadata": {},
   "outputs": [
    {
     "data": {
      "text/plain": [
       "(64, 224, 224, 3)"
      ]
     },
     "execution_count": 7,
     "metadata": {},
     "output_type": "execute_result"
    }
   ],
   "source": [
    "dataiter = iter(train_set)\n",
    "images, labels = dataiter.next()\n",
    "images.shape"
   ]
  },
  {
   "cell_type": "code",
   "execution_count": 7,
   "metadata": {},
   "outputs": [],
   "source": [
    "import tensorflow as tf\n",
    "datagen=tf.keras.preprocessing.image.ImageDataGenerator(\n",
    "   rotation_range=30, horizontal_flip=True)"
   ]
  },
  {
   "cell_type": "code",
   "execution_count": 8,
   "metadata": {},
   "outputs": [
    {
     "name": "stdout",
     "output_type": "stream",
     "text": [
      "Model: \"sequential\"\n",
      "_________________________________________________________________\n",
      " Layer (type)                Output Shape              Param #   \n",
      "=================================================================\n",
      " conv2d (Conv2D)             (None, 222, 222, 32)      896       \n",
      "                                                                 \n",
      " max_pooling2d (MaxPooling2D  (None, 111, 111, 32)     0         \n",
      " )                                                               \n",
      "                                                                 \n",
      " conv2d_1 (Conv2D)           (None, 109, 109, 64)      18496     \n",
      "                                                                 \n",
      " max_pooling2d_1 (MaxPooling  (None, 54, 54, 64)       0         \n",
      " 2D)                                                             \n",
      "                                                                 \n",
      " conv2d_2 (Conv2D)           (None, 52, 52, 128)       73856     \n",
      "                                                                 \n",
      " max_pooling2d_2 (MaxPooling  (None, 26, 26, 128)      0         \n",
      " 2D)                                                             \n",
      "                                                                 \n",
      " conv2d_3 (Conv2D)           (None, 24, 24, 128)       147584    \n",
      "                                                                 \n",
      "=================================================================\n",
      "Total params: 240,832\n",
      "Trainable params: 240,832\n",
      "Non-trainable params: 0\n",
      "_________________________________________________________________\n"
     ]
    }
   ],
   "source": [
    "model = models.Sequential([\n",
    "    layers.Conv2D(32, (3, 3), activation='relu', input_shape=(224, 224, 3)) ,\n",
    "    layers.MaxPooling2D((2, 2)),\n",
    "    layers.Conv2D(64, (3, 3), activation='relu'),\n",
    "    layers.MaxPooling2D((2, 2)),\n",
    "    layers.Conv2D(128, (3, 3), activation='relu'),\n",
    "    layers.MaxPooling2D((2, 2)),\n",
    "    layers.Conv2D(256, (3, 3), activation='relu')\n",
    "])\n",
    "\n",
    "model.summary()"
   ]
  },
  {
   "cell_type": "code",
   "execution_count": 9,
   "metadata": {},
   "outputs": [
    {
     "name": "stdout",
     "output_type": "stream",
     "text": [
      "Model: \"sequential\"\n",
      "_________________________________________________________________\n",
      " Layer (type)                Output Shape              Param #   \n",
      "=================================================================\n",
      " conv2d (Conv2D)             (None, 222, 222, 32)      896       \n",
      "                                                                 \n",
      " max_pooling2d (MaxPooling2D  (None, 111, 111, 32)     0         \n",
      " )                                                               \n",
      "                                                                 \n",
      " conv2d_1 (Conv2D)           (None, 109, 109, 64)      18496     \n",
      "                                                                 \n",
      " max_pooling2d_1 (MaxPooling  (None, 54, 54, 64)       0         \n",
      " 2D)                                                             \n",
      "                                                                 \n",
      " conv2d_2 (Conv2D)           (None, 52, 52, 128)       73856     \n",
      "                                                                 \n",
      " max_pooling2d_2 (MaxPooling  (None, 26, 26, 128)      0         \n",
      " 2D)                                                             \n",
      "                                                                 \n",
      " conv2d_3 (Conv2D)           (None, 24, 24, 128)       147584    \n",
      "                                                                 \n",
      " flatten (Flatten)           (None, 73728)             0         \n",
      "                                                                 \n",
      " dense (Dense)               (None, 264)               19464456  \n",
      "                                                                 \n",
      " dropout (Dropout)           (None, 264)               0         \n",
      "                                                                 \n",
      " dense_1 (Dense)             (None, 64)                16960     \n",
      "                                                                 \n",
      " dropout_1 (Dropout)         (None, 64)                0         \n",
      "                                                                 \n",
      " dense_2 (Dense)             (None, 4)                 260       \n",
      "                                                                 \n",
      " dropout_2 (Dropout)         (None, 4)                 0         \n",
      "                                                                 \n",
      " dense_3 (Dense)             (None, 2)                 10        \n",
      "                                                                 \n",
      "=================================================================\n",
      "Total params: 19,722,518\n",
      "Trainable params: 19,722,518\n",
      "Non-trainable params: 0\n",
      "_________________________________________________________________\n"
     ]
    }
   ],
   "source": [
    "\n",
    "\n",
    "model.add(layers.Flatten())\n",
    "model.add(layers.Dense(264, activation='relu'))\n",
    "model.add(layers.Dropout(0.3))\n",
    "model.add(layers.Dense(64, activation='relu'))\n",
    "model.add(layers.Dropout(0.3))\n",
    "model.add(layers.Dense(4, activation='relu'))\n",
    "model.add(layers.Dropout(0.3))\n",
    "model.add(layers.Dense(2, activation='sigmoid'))\n",
    "model.compile(loss='categorical_crossentropy',  #loss for binary classification\n",
    "              optimizer=optimizers.SGD(learning_rate = 0.01), #RMS optimizer\n",
    "              metrics=['accuracy'])\n",
    "model.summary()"
   ]
  },
  {
   "cell_type": "code",
   "execution_count": 10,
   "metadata": {},
   "outputs": [
    {
     "name": "stdout",
     "output_type": "stream",
     "text": [
      "[name: \"/device:CPU:0\"\n",
      "device_type: \"CPU\"\n",
      "memory_limit: 268435456\n",
      "locality {\n",
      "}\n",
      "incarnation: 8568155711888617296\n",
      "xla_global_id: -1\n",
      ", name: \"/device:GPU:0\"\n",
      "device_type: \"GPU\"\n",
      "memory_limit: 2916378215\n",
      "locality {\n",
      "  bus_id: 1\n",
      "  links {\n",
      "  }\n",
      "}\n",
      "incarnation: 2476015175646452925\n",
      "physical_device_desc: \"device: 0, name: NVIDIA GeForce GTX 1050 Ti, pci bus id: 0000:01:00.0, compute capability: 6.1\"\n",
      "xla_global_id: 416903419\n",
      "]\n"
     ]
    }
   ],
   "source": [
    "from tensorflow.python.client import device_lib\n",
    "print(device_lib.list_local_devices())\n"
   ]
  },
  {
   "cell_type": "code",
   "execution_count": 11,
   "metadata": {},
   "outputs": [],
   "source": [
    "callback = EarlyStopping('loss', patience=3)"
   ]
  },
  {
   "cell_type": "code",
   "execution_count": null,
   "metadata": {},
   "outputs": [
    {
     "name": "stdout",
     "output_type": "stream",
     "text": [
      "Epoch 1/45\n",
      "102/102 [==============================] - 152s 1s/step - loss: 0.5838 - accuracy: 0.7359 - val_loss: 0.5766 - val_accuracy: 0.7417\n",
      "Epoch 2/45\n",
      "102/102 [==============================] - 141s 1s/step - loss: 0.5655 - accuracy: 0.7413 - val_loss: 0.5675 - val_accuracy: 0.7417\n",
      "Epoch 3/45\n",
      "102/102 [==============================] - 142s 1s/step - loss: 0.5454 - accuracy: 0.7415 - val_loss: 0.5579 - val_accuracy: 0.7417\n",
      "Epoch 4/45\n",
      "102/102 [==============================] - 155s 2s/step - loss: 0.5314 - accuracy: 0.7410 - val_loss: 0.5788 - val_accuracy: 0.7417\n",
      "Epoch 5/45\n",
      "102/102 [==============================] - 156s 2s/step - loss: 0.5032 - accuracy: 0.7419 - val_loss: 0.6686 - val_accuracy: 0.4748\n",
      "Epoch 6/45\n",
      "102/102 [==============================] - 150s 1s/step - loss: 0.4959 - accuracy: 0.7467 - val_loss: 0.5782 - val_accuracy: 0.7073\n",
      "Epoch 7/45\n",
      "102/102 [==============================] - 142s 1s/step - loss: 0.4802 - accuracy: 0.7602 - val_loss: 0.6026 - val_accuracy: 0.7269\n",
      "Epoch 8/45\n",
      "102/102 [==============================] - 157s 2s/step - loss: 0.4618 - accuracy: 0.7756 - val_loss: 0.5991 - val_accuracy: 0.6181\n",
      "Epoch 9/45\n",
      "102/102 [==============================] - 153s 2s/step - loss: 0.4479 - accuracy: 0.7903 - val_loss: 0.5955 - val_accuracy: 0.7005\n",
      "Epoch 10/45\n",
      "102/102 [==============================] - 150s 1s/step - loss: 0.4378 - accuracy: 0.7943 - val_loss: 0.6166 - val_accuracy: 0.5652\n",
      "Epoch 11/45\n",
      "102/102 [==============================] - 143s 1s/step - loss: 0.4266 - accuracy: 0.8048 - val_loss: 0.7278 - val_accuracy: 0.4428\n",
      "Epoch 12/45\n",
      "102/102 [==============================] - 153s 2s/step - loss: 0.4210 - accuracy: 0.8063 - val_loss: 0.6116 - val_accuracy: 0.6224\n",
      "Epoch 13/45\n",
      "102/102 [==============================] - 159s 2s/step - loss: 0.4133 - accuracy: 0.8079 - val_loss: 0.6252 - val_accuracy: 0.5467\n",
      "Epoch 14/45\n",
      "102/102 [==============================] - 155s 2s/step - loss: 0.4021 - accuracy: 0.8109 - val_loss: 0.6254 - val_accuracy: 0.5898\n",
      "Epoch 15/45\n",
      "102/102 [==============================] - 153s 2s/step - loss: 0.3923 - accuracy: 0.8146 - val_loss: 0.6441 - val_accuracy: 0.5830\n",
      "Epoch 16/45\n",
      "102/102 [==============================] - 142s 1s/step - loss: 0.3741 - accuracy: 0.8269 - val_loss: 0.7169 - val_accuracy: 0.5012\n",
      "Epoch 17/45\n",
      "102/102 [==============================] - 142s 1s/step - loss: 0.3733 - accuracy: 0.8312 - val_loss: 0.7162 - val_accuracy: 0.5677\n",
      "Epoch 18/45\n",
      "102/102 [==============================] - 143s 1s/step - loss: 0.3711 - accuracy: 0.8280 - val_loss: 0.6925 - val_accuracy: 0.5529\n",
      "Epoch 19/45\n",
      "102/102 [==============================] - 143s 1s/step - loss: 0.3500 - accuracy: 0.8400 - val_loss: 0.8458 - val_accuracy: 0.4723\n",
      "Epoch 20/45\n",
      "102/102 [==============================] - 142s 1s/step - loss: 0.3541 - accuracy: 0.8432 - val_loss: 0.7207 - val_accuracy: 0.5431\n",
      "Epoch 21/45\n",
      "102/102 [==============================] - 143s 1s/step - loss: 0.3494 - accuracy: 0.8418 - val_loss: 0.9779 - val_accuracy: 0.4815\n",
      "Epoch 22/45\n",
      "102/102 [==============================] - 142s 1s/step - loss: 0.3421 - accuracy: 0.8463 - val_loss: 0.8389 - val_accuracy: 0.5012\n",
      "Epoch 23/45\n",
      "102/102 [==============================] - 142s 1s/step - loss: 0.3346 - accuracy: 0.8512 - val_loss: 0.9067 - val_accuracy: 0.5098\n",
      "Epoch 24/45\n",
      "102/102 [==============================] - 142s 1s/step - loss: 0.3370 - accuracy: 0.8575 - val_loss: 0.9885 - val_accuracy: 0.4846\n",
      "Epoch 25/45\n",
      "102/102 [==============================] - 143s 1s/step - loss: 0.3296 - accuracy: 0.8564 - val_loss: 0.9045 - val_accuracy: 0.5092\n",
      "Epoch 26/45\n",
      "102/102 [==============================] - 143s 1s/step - loss: 0.3130 - accuracy: 0.8657 - val_loss: 1.1524 - val_accuracy: 0.4828\n",
      "Epoch 27/45\n",
      "102/102 [==============================] - 143s 1s/step - loss: 0.3082 - accuracy: 0.8772 - val_loss: 1.1291 - val_accuracy: 0.4453\n",
      "Epoch 28/45\n",
      "102/102 [==============================] - 143s 1s/step - loss: 0.3067 - accuracy: 0.8770 - val_loss: 0.9314 - val_accuracy: 0.5098\n",
      "Epoch 29/45\n",
      "102/102 [==============================] - 143s 1s/step - loss: 0.2863 - accuracy: 0.8847 - val_loss: 1.1605 - val_accuracy: 0.4674\n",
      "Epoch 30/45\n",
      "102/102 [==============================] - 145s 1s/step - loss: 0.2943 - accuracy: 0.8809 - val_loss: 1.1545 - val_accuracy: 0.4809\n",
      "Epoch 31/45\n",
      "102/102 [==============================] - 144s 1s/step - loss: 0.2854 - accuracy: 0.8887 - val_loss: 1.4054 - val_accuracy: 0.4490\n",
      "Epoch 32/45\n",
      "102/102 [==============================] - 143s 1s/step - loss: 0.2943 - accuracy: 0.8846 - val_loss: 1.1511 - val_accuracy: 0.5111\n",
      "Epoch 33/45\n",
      "102/102 [==============================] - 141s 1s/step - loss: 0.3008 - accuracy: 0.8801 - val_loss: 1.7112 - val_accuracy: 0.4453\n",
      "Epoch 34/45\n",
      "102/102 [==============================] - 143s 1s/step - loss: 0.2687 - accuracy: 0.9002 - val_loss: 1.2770 - val_accuracy: 0.4766\n",
      "Epoch 35/45\n",
      "102/102 [==============================] - 142s 1s/step - loss: 0.2674 - accuracy: 0.8950 - val_loss: 1.2622 - val_accuracy: 0.4822\n",
      "Epoch 36/45\n",
      " 42/102 [===========>..................] - ETA: 1:01 - loss: 0.2639 - accuracy: 0.8947"
     ]
    },
    {
     "ename": "",
     "evalue": "",
     "output_type": "error",
     "traceback": [
      "\u001b[1;31mCanceled future for execute_request message before replies were done"
     ]
    },
    {
     "ename": "",
     "evalue": "",
     "output_type": "error",
     "traceback": [
      "\u001b[1;31mThe Kernel crashed while executing code in the the current cell or a previous cell. Please review the code in the cell(s) to identify a possible cause of the failure. Click <a href='https://aka.ms/vscodeJupyterKernelCrash'>here</a> for more info. View Jupyter <a href='command:jupyter.viewOutput'>log</a> for further details."
     ]
    }
   ],
   "source": [
    "history = model.fit(train_set,\n",
    "                    epochs=45,\n",
    "                    batch_size=64,\n",
    "                    validation_data=validation_set)"
   ]
  },
  {
   "cell_type": "code",
   "execution_count": 35,
   "metadata": {},
   "outputs": [
    {
     "data": {
      "image/png": "[encoded data removed]",
      "text/plain": [
       "<Figure size 432x288 with 1 Axes>"
      ]
     },
     "metadata": {
      "needs_background": "light"
     },
     "output_type": "display_data"
    },
    {
     "data": {
      "image/png": "[encoded data removed]",
      "text/plain": [
       "<Figure size 432x288 with 1 Axes>"
      ]
     },
     "metadata": {
      "needs_background": "light"
     },
     "output_type": "display_data"
    }
   ],
   "source": [
    "import matplotlib.pyplot as plt\n",
    "acc = history.history['accuracy']\n",
    "val_acc = history.history['val_accuracy']\n",
    "loss = history.history['loss']\n",
    "val_loss = history.history['val_loss']\n",
    "epochs = range(1, len(acc) + 1)\n",
    "plt.plot(epochs, acc, 'bo', label='Training acc')\n",
    "plt.plot(epochs, val_acc, 'b', label='Validation acc')\n",
    "plt.title('Training and validation accuracy')\n",
    "plt.legend()\n",
    "plt.figure()\n",
    "#plotting training and validation loss\n",
    "plt.plot(epochs, loss, 'bo', label='Training loss')\n",
    "plt.plot(epochs, val_loss, 'b', label='Validation loss')\n",
    "plt.title('Training and validation loss')\n",
    "plt.legend()\n",
    "plt.show()"
   ]
  },
  {
   "cell_type": "code",
   "execution_count": 40,
   "metadata": {},
   "outputs": [
    {
     "name": "stdout",
     "output_type": "stream",
     "text": [
      "WARNING:tensorflow:Model was constructed with shape (None, 28, 28, 3) for input KerasTensor(type_spec=TensorSpec(shape=(None, 28, 28, 3), dtype=tf.float32, name='conv2d_input'), name='conv2d_input', description=\"created by layer 'conv2d_input'\"), but it was called on an input with incompatible shape (None, 1).\n"
     ]
    },
    {
     "ename": "ValueError",
     "evalue": "in user code:\n\n    File \"d:\\Anaconda\\envs\\tensorflow\\lib\\site-packages\\keras\\engine\\training.py\", line 1845, in predict_function  *\n        return step_function(self, iterator)\n    File \"d:\\Anaconda\\envs\\tensorflow\\lib\\site-packages\\keras\\engine\\training.py\", line 1834, in step_function  **\n        outputs = model.distribute_strategy.run(run_step, args=(data,))\n    File \"d:\\Anaconda\\envs\\tensorflow\\lib\\site-packages\\keras\\engine\\training.py\", line 1823, in run_step  **\n        outputs = model.predict_step(data)\n    File \"d:\\Anaconda\\envs\\tensorflow\\lib\\site-packages\\keras\\engine\\training.py\", line 1791, in predict_step\n        return self(x, training=False)\n    File \"d:\\Anaconda\\envs\\tensorflow\\lib\\site-packages\\keras\\utils\\traceback_utils.py\", line 67, in error_handler\n        raise e.with_traceback(filtered_tb) from None\n    File \"d:\\Anaconda\\envs\\tensorflow\\lib\\site-packages\\keras\\engine\\input_spec.py\", line 228, in assert_input_compatibility\n        raise ValueError(f'Input {input_index} of layer \"{layer_name}\" '\n\n    ValueError: Exception encountered when calling layer \"sequential\" (type Sequential).\n    \n    Input 0 of layer \"conv2d\" is incompatible with the layer: expected min_ndim=4, found ndim=2. Full shape received: (None, 1)\n    \n    Call arguments received by layer \"sequential\" (type Sequential):\n      • inputs=tf.Tensor(shape=(None, 1), dtype=int64)\n      • training=False\n      • mask=None\n",
     "output_type": "error",
     "traceback": [
      "\u001b[1;31m---------------------------------------------------------------------------\u001b[0m",
      "\u001b[1;31mValueError\u001b[0m                                Traceback (most recent call last)",
      "\u001b[1;32md:\\Git\\Research Paper\\Research_Project\\Project_tensorflow.ipynb Cell 27\u001b[0m in \u001b[0;36m<cell line: 1>\u001b[1;34m()\u001b[0m\n\u001b[1;32m----> <a href='vscode-notebook-cell:/d%3A/Git/Research%20Paper/Research_Project/Project_tensorflow.ipynb#ch0000032?line=0'>1</a>\u001b[0m y_pred\u001b[39m=\u001b[39m model\u001b[39m.\u001b[39;49mpredict(np\u001b[39m.\u001b[39;49marray(y_test))\n\u001b[0;32m      <a href='vscode-notebook-cell:/d%3A/Git/Research%20Paper/Research_Project/Project_tensorflow.ipynb#ch0000032?line=1'>2</a>\u001b[0m \u001b[39m#testing labels\u001b[39;00m\n\u001b[0;32m      <a href='vscode-notebook-cell:/d%3A/Git/Research%20Paper/Research_Project/Project_tensorflow.ipynb#ch0000032?line=2'>3</a>\u001b[0m y_true\u001b[39m=\u001b[39m y_test\u001b[39m.\u001b[39mclasses\n",
      "File \u001b[1;32md:\\Anaconda\\envs\\tensorflow\\lib\\site-packages\\keras\\utils\\traceback_utils.py:67\u001b[0m, in \u001b[0;36mfilter_traceback.<locals>.error_handler\u001b[1;34m(*args, **kwargs)\u001b[0m\n\u001b[0;32m     65\u001b[0m \u001b[39mexcept\u001b[39;00m \u001b[39mException\u001b[39;00m \u001b[39mas\u001b[39;00m e:  \u001b[39m# pylint: disable=broad-except\u001b[39;00m\n\u001b[0;32m     66\u001b[0m   filtered_tb \u001b[39m=\u001b[39m _process_traceback_frames(e\u001b[39m.\u001b[39m__traceback__)\n\u001b[1;32m---> 67\u001b[0m   \u001b[39mraise\u001b[39;00m e\u001b[39m.\u001b[39mwith_traceback(filtered_tb) \u001b[39mfrom\u001b[39;00m \u001b[39mNone\u001b[39m\n\u001b[0;32m     68\u001b[0m \u001b[39mfinally\u001b[39;00m:\n\u001b[0;32m     69\u001b[0m   \u001b[39mdel\u001b[39;00m filtered_tb\n",
      "File \u001b[1;32m~\\AppData\\Local\\Temp\\__autograph_generated_filebs7b2qb8.py:15\u001b[0m, in \u001b[0;36mouter_factory.<locals>.inner_factory.<locals>.tf__predict_function\u001b[1;34m(iterator)\u001b[0m\n\u001b[0;32m     13\u001b[0m \u001b[39mtry\u001b[39;00m:\n\u001b[0;32m     14\u001b[0m     do_return \u001b[39m=\u001b[39m \u001b[39mTrue\u001b[39;00m\n\u001b[1;32m---> 15\u001b[0m     retval_ \u001b[39m=\u001b[39m ag__\u001b[39m.\u001b[39mconverted_call(ag__\u001b[39m.\u001b[39mld(step_function), (ag__\u001b[39m.\u001b[39mld(\u001b[39mself\u001b[39m), ag__\u001b[39m.\u001b[39mld(iterator)), \u001b[39mNone\u001b[39;00m, fscope)\n\u001b[0;32m     16\u001b[0m \u001b[39mexcept\u001b[39;00m:\n\u001b[0;32m     17\u001b[0m     do_return \u001b[39m=\u001b[39m \u001b[39mFalse\u001b[39;00m\n",
      "\u001b[1;31mValueError\u001b[0m: in user code:\n\n    File \"d:\\Anaconda\\envs\\tensorflow\\lib\\site-packages\\keras\\engine\\training.py\", line 1845, in predict_function  *\n        return step_function(self, iterator)\n    File \"d:\\Anaconda\\envs\\tensorflow\\lib\\site-packages\\keras\\engine\\training.py\", line 1834, in step_function  **\n        outputs = model.distribute_strategy.run(run_step, args=(data,))\n    File \"d:\\Anaconda\\envs\\tensorflow\\lib\\site-packages\\keras\\engine\\training.py\", line 1823, in run_step  **\n        outputs = model.predict_step(data)\n    File \"d:\\Anaconda\\envs\\tensorflow\\lib\\site-packages\\keras\\engine\\training.py\", line 1791, in predict_step\n        return self(x, training=False)\n    File \"d:\\Anaconda\\envs\\tensorflow\\lib\\site-packages\\keras\\utils\\traceback_utils.py\", line 67, in error_handler\n        raise e.with_traceback(filtered_tb) from None\n    File \"d:\\Anaconda\\envs\\tensorflow\\lib\\site-packages\\keras\\engine\\input_spec.py\", line 228, in assert_input_compatibility\n        raise ValueError(f'Input {input_index} of layer \"{layer_name}\" '\n\n    ValueError: Exception encountered when calling layer \"sequential\" (type Sequential).\n    \n    Input 0 of layer \"conv2d\" is incompatible with the layer: expected min_ndim=4, found ndim=2. Full shape received: (None, 1)\n    \n    Call arguments received by layer \"sequential\" (type Sequential):\n      • inputs=tf.Tensor(shape=(None, 1), dtype=int64)\n      • training=False\n      • mask=None\n"
     ]
    }
   ],
   "source": [
    "y_pred= model.predict(np.array(y_test))\n",
    "#testing labels\n",
    "y_true= y_test.classes\n",
    "#finding confusion matrix for test data\n",
    "cnf_matrix= confusion_matrix(y_true,y_pred.argmax(axis=1))\n",
    "print('Confusion Matrix:\\n',cnf_matrix)"
   ]
  },
  {
   "cell_type": "code",
   "execution_count": 42,
   "metadata": {},
   "outputs": [
    {
     "name": "stdout",
     "output_type": "stream",
     "text": [
      "Found 8244 images belonging to 3 classes.\n"
     ]
    }
   ],
   "source": [
    "test_datagen = ImageDataGenerator(rescale=1./255)\n",
    "test_generator = test_datagen.flow_from_directory(data_dir,\n",
    "                                                  target_size=(224, 224),\n",
    "                                                  batch_size=100,\n",
    "                                                  shuffle=False,\n",
    "                                                  class_mode='categorical')"
   ]
  },
  {
   "cell_type": "code",
   "execution_count": null,
   "metadata": {},
   "outputs": [],
   "source": []
  }
 ],
 "metadata": {
  "kernelspec": {
   "display_name": "Python 3.10.5 ('tensorflow')",
   "language": "python",
   "name": "python3"
  },
  "language_info": {
   "codemirror_mode": {
    "name": "ipython",
    "version": 3
   },
   "file_extension": ".py",
   "mimetype": "text/x-python",
   "name": "python",
   "nbconvert_exporter": "python",
   "pygments_lexer": "ipython3",
   "version": "3.10.5"
  },
  "orig_nbformat": 4,
  "vscode": {
   "interpreter": {
    "hash": "1e14dff31657d72d8f438edb53d1760a8d6796be921cd9f1003fb34023c1344f"
   }
  }
 },
 "nbformat": 4,
 "nbformat_minor": 2
}
